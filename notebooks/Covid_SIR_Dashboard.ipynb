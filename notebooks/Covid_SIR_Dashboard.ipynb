{
 "cells": [
  {
   "cell_type": "markdown",
   "metadata": {},
   "source": [
    "# Importing Libraries"
   ]
  },
  {
   "cell_type": "code",
   "execution_count": 2,
   "metadata": {},
   "outputs": [],
   "source": [
    "import pandas as pd \n",
    "import numpy as np\n",
    "import matplotlib.pyplot as plt\n",
    "import matplotlib as mpl\n",
    "import seaborn as sns\n",
    "import plotly.graph_objects as go\n",
    "\n",
    "from datetime import datetime"
   ]
  },
  {
   "cell_type": "markdown",
   "metadata": {},
   "source": [
    "# Styles and Settings"
   ]
  },
  {
   "cell_type": "code",
   "execution_count": 3,
   "metadata": {},
   "outputs": [],
   "source": [
    "%matplotlib inline\n",
    "sns.set(style='darkgrid')\n",
    "mpl.rcParams['figure.figsize'] = (16,9)\n",
    "pd.set_option('display.max_rows', 500)"
   ]
  },
  {
   "cell_type": "markdown",
   "metadata": {},
   "source": [
    "# Imports from the previous notebook"
   ]
  },
  {
   "cell_type": "code",
   "execution_count": 4,
   "metadata": {},
   "outputs": [],
   "source": [
    "country_list = ['India', 'Germany', 'Spain']"
   ]
  },
  {
   "cell_type": "code",
   "execution_count": 5,
   "metadata": {},
   "outputs": [],
   "source": [
    "df_raw = pd.read_csv('../data/raw/owid-covid-data.csv')"
   ]
  },
  {
   "cell_type": "code",
   "execution_count": 6,
   "metadata": {},
   "outputs": [
    {
     "data": {
      "text/html": [
       "<div>\n",
       "<style scoped>\n",
       "    .dataframe tbody tr th:only-of-type {\n",
       "        vertical-align: middle;\n",
       "    }\n",
       "\n",
       "    .dataframe tbody tr th {\n",
       "        vertical-align: top;\n",
       "    }\n",
       "\n",
       "    .dataframe thead th {\n",
       "        text-align: right;\n",
       "    }\n",
       "</style>\n",
       "<table border=\"1\" class=\"dataframe\">\n",
       "  <thead>\n",
       "    <tr style=\"text-align: right;\">\n",
       "      <th></th>\n",
       "      <th>iso_code</th>\n",
       "      <th>continent</th>\n",
       "      <th>location</th>\n",
       "      <th>date</th>\n",
       "      <th>total_cases</th>\n",
       "      <th>new_cases</th>\n",
       "      <th>new_cases_smoothed</th>\n",
       "      <th>total_deaths</th>\n",
       "      <th>new_deaths</th>\n",
       "      <th>new_deaths_smoothed</th>\n",
       "      <th>...</th>\n",
       "      <th>female_smokers</th>\n",
       "      <th>male_smokers</th>\n",
       "      <th>handwashing_facilities</th>\n",
       "      <th>hospital_beds_per_thousand</th>\n",
       "      <th>life_expectancy</th>\n",
       "      <th>human_development_index</th>\n",
       "      <th>excess_mortality_cumulative_absolute</th>\n",
       "      <th>excess_mortality_cumulative</th>\n",
       "      <th>excess_mortality</th>\n",
       "      <th>excess_mortality_cumulative_per_million</th>\n",
       "    </tr>\n",
       "  </thead>\n",
       "  <tbody>\n",
       "    <tr>\n",
       "      <th>0</th>\n",
       "      <td>AFG</td>\n",
       "      <td>Asia</td>\n",
       "      <td>Afghanistan</td>\n",
       "      <td>2020-02-24</td>\n",
       "      <td>5.0</td>\n",
       "      <td>5.0</td>\n",
       "      <td>NaN</td>\n",
       "      <td>NaN</td>\n",
       "      <td>NaN</td>\n",
       "      <td>NaN</td>\n",
       "      <td>...</td>\n",
       "      <td>NaN</td>\n",
       "      <td>NaN</td>\n",
       "      <td>37.746</td>\n",
       "      <td>0.5</td>\n",
       "      <td>64.83</td>\n",
       "      <td>0.511</td>\n",
       "      <td>NaN</td>\n",
       "      <td>NaN</td>\n",
       "      <td>NaN</td>\n",
       "      <td>NaN</td>\n",
       "    </tr>\n",
       "    <tr>\n",
       "      <th>1</th>\n",
       "      <td>AFG</td>\n",
       "      <td>Asia</td>\n",
       "      <td>Afghanistan</td>\n",
       "      <td>2020-02-25</td>\n",
       "      <td>5.0</td>\n",
       "      <td>0.0</td>\n",
       "      <td>NaN</td>\n",
       "      <td>NaN</td>\n",
       "      <td>NaN</td>\n",
       "      <td>NaN</td>\n",
       "      <td>...</td>\n",
       "      <td>NaN</td>\n",
       "      <td>NaN</td>\n",
       "      <td>37.746</td>\n",
       "      <td>0.5</td>\n",
       "      <td>64.83</td>\n",
       "      <td>0.511</td>\n",
       "      <td>NaN</td>\n",
       "      <td>NaN</td>\n",
       "      <td>NaN</td>\n",
       "      <td>NaN</td>\n",
       "    </tr>\n",
       "    <tr>\n",
       "      <th>2</th>\n",
       "      <td>AFG</td>\n",
       "      <td>Asia</td>\n",
       "      <td>Afghanistan</td>\n",
       "      <td>2020-02-26</td>\n",
       "      <td>5.0</td>\n",
       "      <td>0.0</td>\n",
       "      <td>NaN</td>\n",
       "      <td>NaN</td>\n",
       "      <td>NaN</td>\n",
       "      <td>NaN</td>\n",
       "      <td>...</td>\n",
       "      <td>NaN</td>\n",
       "      <td>NaN</td>\n",
       "      <td>37.746</td>\n",
       "      <td>0.5</td>\n",
       "      <td>64.83</td>\n",
       "      <td>0.511</td>\n",
       "      <td>NaN</td>\n",
       "      <td>NaN</td>\n",
       "      <td>NaN</td>\n",
       "      <td>NaN</td>\n",
       "    </tr>\n",
       "    <tr>\n",
       "      <th>3</th>\n",
       "      <td>AFG</td>\n",
       "      <td>Asia</td>\n",
       "      <td>Afghanistan</td>\n",
       "      <td>2020-02-27</td>\n",
       "      <td>5.0</td>\n",
       "      <td>0.0</td>\n",
       "      <td>NaN</td>\n",
       "      <td>NaN</td>\n",
       "      <td>NaN</td>\n",
       "      <td>NaN</td>\n",
       "      <td>...</td>\n",
       "      <td>NaN</td>\n",
       "      <td>NaN</td>\n",
       "      <td>37.746</td>\n",
       "      <td>0.5</td>\n",
       "      <td>64.83</td>\n",
       "      <td>0.511</td>\n",
       "      <td>NaN</td>\n",
       "      <td>NaN</td>\n",
       "      <td>NaN</td>\n",
       "      <td>NaN</td>\n",
       "    </tr>\n",
       "    <tr>\n",
       "      <th>4</th>\n",
       "      <td>AFG</td>\n",
       "      <td>Asia</td>\n",
       "      <td>Afghanistan</td>\n",
       "      <td>2020-02-28</td>\n",
       "      <td>5.0</td>\n",
       "      <td>0.0</td>\n",
       "      <td>NaN</td>\n",
       "      <td>NaN</td>\n",
       "      <td>NaN</td>\n",
       "      <td>NaN</td>\n",
       "      <td>...</td>\n",
       "      <td>NaN</td>\n",
       "      <td>NaN</td>\n",
       "      <td>37.746</td>\n",
       "      <td>0.5</td>\n",
       "      <td>64.83</td>\n",
       "      <td>0.511</td>\n",
       "      <td>NaN</td>\n",
       "      <td>NaN</td>\n",
       "      <td>NaN</td>\n",
       "      <td>NaN</td>\n",
       "    </tr>\n",
       "  </tbody>\n",
       "</table>\n",
       "<p>5 rows × 67 columns</p>\n",
       "</div>"
      ],
      "text/plain": [
       "  iso_code continent     location        date  total_cases  new_cases  \\\n",
       "0      AFG      Asia  Afghanistan  2020-02-24          5.0        5.0   \n",
       "1      AFG      Asia  Afghanistan  2020-02-25          5.0        0.0   \n",
       "2      AFG      Asia  Afghanistan  2020-02-26          5.0        0.0   \n",
       "3      AFG      Asia  Afghanistan  2020-02-27          5.0        0.0   \n",
       "4      AFG      Asia  Afghanistan  2020-02-28          5.0        0.0   \n",
       "\n",
       "   new_cases_smoothed  total_deaths  new_deaths  new_deaths_smoothed  ...  \\\n",
       "0                 NaN           NaN         NaN                  NaN  ...   \n",
       "1                 NaN           NaN         NaN                  NaN  ...   \n",
       "2                 NaN           NaN         NaN                  NaN  ...   \n",
       "3                 NaN           NaN         NaN                  NaN  ...   \n",
       "4                 NaN           NaN         NaN                  NaN  ...   \n",
       "\n",
       "   female_smokers  male_smokers  handwashing_facilities  \\\n",
       "0             NaN           NaN                  37.746   \n",
       "1             NaN           NaN                  37.746   \n",
       "2             NaN           NaN                  37.746   \n",
       "3             NaN           NaN                  37.746   \n",
       "4             NaN           NaN                  37.746   \n",
       "\n",
       "   hospital_beds_per_thousand  life_expectancy  human_development_index  \\\n",
       "0                         0.5            64.83                    0.511   \n",
       "1                         0.5            64.83                    0.511   \n",
       "2                         0.5            64.83                    0.511   \n",
       "3                         0.5            64.83                    0.511   \n",
       "4                         0.5            64.83                    0.511   \n",
       "\n",
       "   excess_mortality_cumulative_absolute  excess_mortality_cumulative  \\\n",
       "0                                   NaN                          NaN   \n",
       "1                                   NaN                          NaN   \n",
       "2                                   NaN                          NaN   \n",
       "3                                   NaN                          NaN   \n",
       "4                                   NaN                          NaN   \n",
       "\n",
       "   excess_mortality  excess_mortality_cumulative_per_million  \n",
       "0               NaN                                      NaN  \n",
       "1               NaN                                      NaN  \n",
       "2               NaN                                      NaN  \n",
       "3               NaN                                      NaN  \n",
       "4               NaN                                      NaN  \n",
       "\n",
       "[5 rows x 67 columns]"
      ]
     },
     "execution_count": 6,
     "metadata": {},
     "output_type": "execute_result"
    }
   ],
   "source": [
    "df_raw.head()"
   ]
  },
  {
   "cell_type": "code",
   "execution_count": 7,
   "metadata": {},
   "outputs": [
    {
     "data": {
      "text/plain": [
       "Index(['iso_code', 'continent', 'location', 'date', 'total_cases', 'new_cases',\n",
       "       'new_cases_smoothed', 'total_deaths', 'new_deaths',\n",
       "       'new_deaths_smoothed', 'total_cases_per_million',\n",
       "       'new_cases_per_million', 'new_cases_smoothed_per_million',\n",
       "       'total_deaths_per_million', 'new_deaths_per_million',\n",
       "       'new_deaths_smoothed_per_million', 'reproduction_rate', 'icu_patients',\n",
       "       'icu_patients_per_million', 'hosp_patients',\n",
       "       'hosp_patients_per_million', 'weekly_icu_admissions',\n",
       "       'weekly_icu_admissions_per_million', 'weekly_hosp_admissions',\n",
       "       'weekly_hosp_admissions_per_million', 'total_tests', 'new_tests',\n",
       "       'total_tests_per_thousand', 'new_tests_per_thousand',\n",
       "       'new_tests_smoothed', 'new_tests_smoothed_per_thousand',\n",
       "       'positive_rate', 'tests_per_case', 'tests_units', 'total_vaccinations',\n",
       "       'people_vaccinated', 'people_fully_vaccinated', 'total_boosters',\n",
       "       'new_vaccinations', 'new_vaccinations_smoothed',\n",
       "       'total_vaccinations_per_hundred', 'people_vaccinated_per_hundred',\n",
       "       'people_fully_vaccinated_per_hundred', 'total_boosters_per_hundred',\n",
       "       'new_vaccinations_smoothed_per_million',\n",
       "       'new_people_vaccinated_smoothed',\n",
       "       'new_people_vaccinated_smoothed_per_hundred', 'stringency_index',\n",
       "       'population', 'population_density', 'median_age', 'aged_65_older',\n",
       "       'aged_70_older', 'gdp_per_capita', 'extreme_poverty',\n",
       "       'cardiovasc_death_rate', 'diabetes_prevalence', 'female_smokers',\n",
       "       'male_smokers', 'handwashing_facilities', 'hospital_beds_per_thousand',\n",
       "       'life_expectancy', 'human_development_index',\n",
       "       'excess_mortality_cumulative_absolute', 'excess_mortality_cumulative',\n",
       "       'excess_mortality', 'excess_mortality_cumulative_per_million'],\n",
       "      dtype='object')"
      ]
     },
     "execution_count": 7,
     "metadata": {},
     "output_type": "execute_result"
    }
   ],
   "source": [
    "df_raw.columns"
   ]
  },
  {
   "cell_type": "code",
   "execution_count": 8,
   "metadata": {},
   "outputs": [],
   "source": [
    "data_trivial = df_raw[['date', 'location','total_cases', 'population', 'people_fully_vaccinated', 'stringency_index']]"
   ]
  },
  {
   "cell_type": "code",
   "execution_count": 9,
   "metadata": {},
   "outputs": [],
   "source": [
    "data_trivial = data_trivial.rename(columns={'location':'country', 'total_cases':'infected', 'people_fully_vaccinated':'vaccinated'})"
   ]
  },
  {
   "cell_type": "code",
   "execution_count": 10,
   "metadata": {},
   "outputs": [
    {
     "data": {
      "text/html": [
       "<div>\n",
       "<style scoped>\n",
       "    .dataframe tbody tr th:only-of-type {\n",
       "        vertical-align: middle;\n",
       "    }\n",
       "\n",
       "    .dataframe tbody tr th {\n",
       "        vertical-align: top;\n",
       "    }\n",
       "\n",
       "    .dataframe thead th {\n",
       "        text-align: right;\n",
       "    }\n",
       "</style>\n",
       "<table border=\"1\" class=\"dataframe\">\n",
       "  <thead>\n",
       "    <tr style=\"text-align: right;\">\n",
       "      <th></th>\n",
       "      <th>date</th>\n",
       "      <th>country</th>\n",
       "      <th>infected</th>\n",
       "      <th>population</th>\n",
       "      <th>vaccinated</th>\n",
       "      <th>stringency_index</th>\n",
       "    </tr>\n",
       "  </thead>\n",
       "  <tbody>\n",
       "    <tr>\n",
       "      <th>0</th>\n",
       "      <td>2020-02-24</td>\n",
       "      <td>Afghanistan</td>\n",
       "      <td>5.0</td>\n",
       "      <td>39835428.0</td>\n",
       "      <td>NaN</td>\n",
       "      <td>8.33</td>\n",
       "    </tr>\n",
       "    <tr>\n",
       "      <th>1</th>\n",
       "      <td>2020-02-25</td>\n",
       "      <td>Afghanistan</td>\n",
       "      <td>5.0</td>\n",
       "      <td>39835428.0</td>\n",
       "      <td>NaN</td>\n",
       "      <td>8.33</td>\n",
       "    </tr>\n",
       "    <tr>\n",
       "      <th>2</th>\n",
       "      <td>2020-02-26</td>\n",
       "      <td>Afghanistan</td>\n",
       "      <td>5.0</td>\n",
       "      <td>39835428.0</td>\n",
       "      <td>NaN</td>\n",
       "      <td>8.33</td>\n",
       "    </tr>\n",
       "    <tr>\n",
       "      <th>3</th>\n",
       "      <td>2020-02-27</td>\n",
       "      <td>Afghanistan</td>\n",
       "      <td>5.0</td>\n",
       "      <td>39835428.0</td>\n",
       "      <td>NaN</td>\n",
       "      <td>8.33</td>\n",
       "    </tr>\n",
       "    <tr>\n",
       "      <th>4</th>\n",
       "      <td>2020-02-28</td>\n",
       "      <td>Afghanistan</td>\n",
       "      <td>5.0</td>\n",
       "      <td>39835428.0</td>\n",
       "      <td>NaN</td>\n",
       "      <td>8.33</td>\n",
       "    </tr>\n",
       "  </tbody>\n",
       "</table>\n",
       "</div>"
      ],
      "text/plain": [
       "         date      country  infected  population  vaccinated  stringency_index\n",
       "0  2020-02-24  Afghanistan       5.0  39835428.0         NaN              8.33\n",
       "1  2020-02-25  Afghanistan       5.0  39835428.0         NaN              8.33\n",
       "2  2020-02-26  Afghanistan       5.0  39835428.0         NaN              8.33\n",
       "3  2020-02-27  Afghanistan       5.0  39835428.0         NaN              8.33\n",
       "4  2020-02-28  Afghanistan       5.0  39835428.0         NaN              8.33"
      ]
     },
     "execution_count": 10,
     "metadata": {},
     "output_type": "execute_result"
    }
   ],
   "source": [
    "data_trivial.head()"
   ]
  },
  {
   "cell_type": "markdown",
   "metadata": {},
   "source": [
    "# Converting date to correct data-type"
   ]
  },
  {
   "cell_type": "code",
   "execution_count": 11,
   "metadata": {},
   "outputs": [],
   "source": [
    "date_idx = [datetime.strptime(each, '%Y-%m-%d') for each in data_trivial.date]\n",
    "data_trivial['date'] = date_idx"
   ]
  },
  {
   "cell_type": "code",
   "execution_count": 12,
   "metadata": {},
   "outputs": [],
   "source": [
    "df_processed = pd.DataFrame(data_trivial['date'])"
   ]
  },
  {
   "cell_type": "code",
   "execution_count": 13,
   "metadata": {},
   "outputs": [],
   "source": [
    "df_processed = pd.DataFrame(df_processed['date'].unique())"
   ]
  },
  {
   "cell_type": "code",
   "execution_count": 14,
   "metadata": {},
   "outputs": [],
   "source": [
    "df_processed.rename(columns={0:'date'}, inplace=True)"
   ]
  },
  {
   "cell_type": "code",
   "execution_count": 15,
   "metadata": {},
   "outputs": [],
   "source": [
    "df_processed.sort_values(by='date', inplace=True)"
   ]
  },
  {
   "cell_type": "code",
   "execution_count": 16,
   "metadata": {},
   "outputs": [],
   "source": [
    "df_processed.set_index(['date'], inplace=True)"
   ]
  },
  {
   "cell_type": "code",
   "execution_count": 17,
   "metadata": {},
   "outputs": [],
   "source": [
    "data_trivial.set_index(['date'], inplace=True)"
   ]
  },
  {
   "cell_type": "code",
   "execution_count": 18,
   "metadata": {},
   "outputs": [],
   "source": [
    "for each in country_list:\n",
    "    df_processed[each+'_infected'] = pd.DataFrame(data_trivial[data_trivial['country'] == each]['infected'])\n",
    "    df_processed[each+'_population'] = pd.DataFrame(data_trivial[data_trivial['country'] == each]['population'])\n",
    "    df_processed[each+'_stringency_index'] = pd.DataFrame(data_trivial[data_trivial['country'] == each]['stringency_index'])"
   ]
  },
  {
   "cell_type": "code",
   "execution_count": 19,
   "metadata": {},
   "outputs": [
    {
     "data": {
      "text/html": [
       "<div>\n",
       "<style scoped>\n",
       "    .dataframe tbody tr th:only-of-type {\n",
       "        vertical-align: middle;\n",
       "    }\n",
       "\n",
       "    .dataframe tbody tr th {\n",
       "        vertical-align: top;\n",
       "    }\n",
       "\n",
       "    .dataframe thead th {\n",
       "        text-align: right;\n",
       "    }\n",
       "</style>\n",
       "<table border=\"1\" class=\"dataframe\">\n",
       "  <thead>\n",
       "    <tr style=\"text-align: right;\">\n",
       "      <th></th>\n",
       "      <th>India_infected</th>\n",
       "      <th>India_population</th>\n",
       "      <th>India_stringency_index</th>\n",
       "      <th>Germany_infected</th>\n",
       "      <th>Germany_population</th>\n",
       "      <th>Germany_stringency_index</th>\n",
       "      <th>Spain_infected</th>\n",
       "      <th>Spain_population</th>\n",
       "      <th>Spain_stringency_index</th>\n",
       "    </tr>\n",
       "    <tr>\n",
       "      <th>date</th>\n",
       "      <th></th>\n",
       "      <th></th>\n",
       "      <th></th>\n",
       "      <th></th>\n",
       "      <th></th>\n",
       "      <th></th>\n",
       "      <th></th>\n",
       "      <th></th>\n",
       "      <th></th>\n",
       "    </tr>\n",
       "  </thead>\n",
       "  <tbody>\n",
       "    <tr>\n",
       "      <th>2020-01-01</th>\n",
       "      <td>NaN</td>\n",
       "      <td>NaN</td>\n",
       "      <td>NaN</td>\n",
       "      <td>NaN</td>\n",
       "      <td>NaN</td>\n",
       "      <td>NaN</td>\n",
       "      <td>NaN</td>\n",
       "      <td>NaN</td>\n",
       "      <td>NaN</td>\n",
       "    </tr>\n",
       "    <tr>\n",
       "      <th>2020-01-02</th>\n",
       "      <td>NaN</td>\n",
       "      <td>NaN</td>\n",
       "      <td>NaN</td>\n",
       "      <td>NaN</td>\n",
       "      <td>NaN</td>\n",
       "      <td>NaN</td>\n",
       "      <td>NaN</td>\n",
       "      <td>NaN</td>\n",
       "      <td>NaN</td>\n",
       "    </tr>\n",
       "    <tr>\n",
       "      <th>2020-01-03</th>\n",
       "      <td>NaN</td>\n",
       "      <td>NaN</td>\n",
       "      <td>NaN</td>\n",
       "      <td>NaN</td>\n",
       "      <td>NaN</td>\n",
       "      <td>NaN</td>\n",
       "      <td>NaN</td>\n",
       "      <td>NaN</td>\n",
       "      <td>NaN</td>\n",
       "    </tr>\n",
       "    <tr>\n",
       "      <th>2020-01-04</th>\n",
       "      <td>NaN</td>\n",
       "      <td>NaN</td>\n",
       "      <td>NaN</td>\n",
       "      <td>NaN</td>\n",
       "      <td>NaN</td>\n",
       "      <td>NaN</td>\n",
       "      <td>NaN</td>\n",
       "      <td>NaN</td>\n",
       "      <td>NaN</td>\n",
       "    </tr>\n",
       "    <tr>\n",
       "      <th>2020-01-05</th>\n",
       "      <td>NaN</td>\n",
       "      <td>NaN</td>\n",
       "      <td>NaN</td>\n",
       "      <td>NaN</td>\n",
       "      <td>NaN</td>\n",
       "      <td>NaN</td>\n",
       "      <td>NaN</td>\n",
       "      <td>NaN</td>\n",
       "      <td>NaN</td>\n",
       "    </tr>\n",
       "  </tbody>\n",
       "</table>\n",
       "</div>"
      ],
      "text/plain": [
       "            India_infected  India_population  India_stringency_index  \\\n",
       "date                                                                   \n",
       "2020-01-01             NaN               NaN                     NaN   \n",
       "2020-01-02             NaN               NaN                     NaN   \n",
       "2020-01-03             NaN               NaN                     NaN   \n",
       "2020-01-04             NaN               NaN                     NaN   \n",
       "2020-01-05             NaN               NaN                     NaN   \n",
       "\n",
       "            Germany_infected  Germany_population  Germany_stringency_index  \\\n",
       "date                                                                         \n",
       "2020-01-01               NaN                 NaN                       NaN   \n",
       "2020-01-02               NaN                 NaN                       NaN   \n",
       "2020-01-03               NaN                 NaN                       NaN   \n",
       "2020-01-04               NaN                 NaN                       NaN   \n",
       "2020-01-05               NaN                 NaN                       NaN   \n",
       "\n",
       "            Spain_infected  Spain_population  Spain_stringency_index  \n",
       "date                                                                  \n",
       "2020-01-01             NaN               NaN                     NaN  \n",
       "2020-01-02             NaN               NaN                     NaN  \n",
       "2020-01-03             NaN               NaN                     NaN  \n",
       "2020-01-04             NaN               NaN                     NaN  \n",
       "2020-01-05             NaN               NaN                     NaN  "
      ]
     },
     "execution_count": 19,
     "metadata": {},
     "output_type": "execute_result"
    }
   ],
   "source": [
    "df_processed.head()"
   ]
  },
  {
   "cell_type": "code",
   "execution_count": 20,
   "metadata": {},
   "outputs": [],
   "source": [
    "df_population = df_processed.fillna(0)"
   ]
  },
  {
   "cell_type": "code",
   "execution_count": 21,
   "metadata": {},
   "outputs": [],
   "source": [
    "country_population_list=np.zeros(len(country_list))\n",
    "for pos, each in enumerate(country_list):\n",
    "    country_population_list[pos] = max(df_population[each+'_population'])"
   ]
  },
  {
   "cell_type": "code",
   "execution_count": 22,
   "metadata": {},
   "outputs": [],
   "source": [
    "#country_population_list"
   ]
  },
  {
   "cell_type": "code",
   "execution_count": null,
   "metadata": {},
   "outputs": [],
   "source": []
  },
  {
   "cell_type": "markdown",
   "metadata": {},
   "source": [
    "# Fitting the parameters of SIR model for each country"
   ]
  },
  {
   "cell_type": "markdown",
   "metadata": {},
   "source": [
    "### Fitting the parameters of SIR model for Germany"
   ]
  },
  {
   "cell_type": "code",
   "execution_count": 23,
   "metadata": {},
   "outputs": [],
   "source": [
    "from scipy import optimize\n",
    "from scipy import integrate"
   ]
  },
  {
   "cell_type": "code",
   "execution_count": 24,
   "metadata": {},
   "outputs": [],
   "source": [
    "ydata_Germany = np.array(df_processed.Germany_infected[60:])\n",
    "ydata_Germany = ydata_Germany.astype(int)\n",
    "t_Germany=np.arange(len(ydata_Germany))"
   ]
  },
  {
   "cell_type": "code",
   "execution_count": 25,
   "metadata": {},
   "outputs": [],
   "source": [
    "# Parameters\n",
    "\n",
    "#N0 = country_population_list[1] # Population size\n",
    "N0 = 1000000\n",
    "beta = 0.4\n",
    "gamma = 0.1  # 1(gamma) Person can infect 4(beta) people\n",
    "\n",
    "I0 = ydata_Germany[0]   # Initial infected size\n",
    "#S0 = N0-I0  # Population prone to infection\n",
    "S0 = N0-I0\n",
    "R0 = 0  # Initial recovered size"
   ]
  },
  {
   "cell_type": "code",
   "execution_count": 26,
   "metadata": {},
   "outputs": [
    {
     "data": {
      "text/plain": [
       "117"
      ]
     },
     "execution_count": 26,
     "metadata": {},
     "output_type": "execute_result"
    }
   ],
   "source": [
    "I0"
   ]
  },
  {
   "cell_type": "code",
   "execution_count": 27,
   "metadata": {},
   "outputs": [],
   "source": [
    "def SIR_model(SIR, t, beta, gamma):\n",
    "    ''' Simple SIR model\n",
    "        S: susceptible population\n",
    "        I: infected people\n",
    "        R: recovered people\n",
    "        beta:\n",
    "        \n",
    "        overall condition is that the sum of changes (differences) sum up to 0\n",
    "        dS+dI+dR=0\n",
    "        S+I+R = N (constant size of population)\n",
    "    '''\n",
    "    \n",
    "    S,I,R = SIR\n",
    "    dS_dt = -beta*S*I/N0\n",
    "    dI_dt = beta*S*I/N0-gamma*I\n",
    "    dR_dt = gamma*I\n",
    "    return ([dS_dt, dI_dt, dR_dt])"
   ]
  },
  {
   "cell_type": "code",
   "execution_count": 28,
   "metadata": {},
   "outputs": [],
   "source": [
    "def fit_odeint(x, beta, gamma):\n",
    "    return integrate.odeint(SIR_model, (S0, I0, R0), t_Germany, args=(beta, gamma))[:,1] # we only would like to get dI"
   ]
  },
  {
   "cell_type": "code",
   "execution_count": 29,
   "metadata": {},
   "outputs": [
    {
     "data": {
      "text/plain": [
       "array([ 1.17000000e+02,  1.57924452e+02,  2.13158100e+02,  2.87699684e+02,\n",
       "        3.88290525e+02,  5.24018997e+02,  7.07132193e+02,  9.54123799e+02,\n",
       "        1.28718846e+03,  1.73615937e+03,  2.34107745e+03,  3.15557574e+03,\n",
       "        4.25129737e+03,  5.72358968e+03,  7.69871064e+03,  1.03427094e+04,\n",
       "        1.38719351e+04,  1.85646812e+04,  2.47726292e+04,  3.29293181e+04,\n",
       "        4.35506614e+04,  5.72195925e+04,  7.45438971e+04,  9.60750182e+04,\n",
       "        1.22179645e+05,  1.52869804e+05,  1.87623187e+05,  2.25256932e+05,\n",
       "        2.63934499e+05,  3.01360038e+05,  3.35140610e+05,  3.63209191e+05,\n",
       "        3.84162393e+05,  3.97408603e+05,  4.03114064e+05,  4.02012415e+05,\n",
       "        3.95168700e+05,  3.83768497e+05,  3.68965890e+05,  3.51793712e+05,\n",
       "        3.33123606e+05,  3.13659362e+05,  2.93949128e+05,  2.74406263e+05,\n",
       "        2.55332512e+05,  2.36940027e+05,  2.19370745e+05,  2.02712584e+05,\n",
       "        1.87012600e+05,  1.72287445e+05,  1.58531537e+05,  1.45723396e+05,\n",
       "        1.33830490e+05,  1.22812925e+05,  1.12626221e+05,  1.03223393e+05,\n",
       "        9.45564877e+04,  8.65777036e+04,  7.92401964e+04,  7.24986412e+04,\n",
       "        6.63096115e+04,  6.06318195e+04,  5.54262533e+04,  5.06562357e+04,\n",
       "        4.62874274e+04,  4.22877883e+04,  3.86275097e+04,  3.52789268e+04,\n",
       "        3.22164181e+04,  2.94162967e+04,  2.68566979e+04,  2.45174666e+04,\n",
       "        2.23800444e+04,  2.04273614e+04,  1.86437303e+04,  1.70147460e+04,\n",
       "        1.55271898e+04,  1.41689396e+04,  1.29288845e+04,  1.17968459e+04,\n",
       "        1.07635030e+04,  9.82032389e+03,  8.95950175e+03,  8.17389514e+03,\n",
       "        7.45697332e+03,  6.80276544e+03,  6.20581385e+03,  5.66113098e+03,\n",
       "        5.16415967e+03,  4.71073681e+03,  4.29705973e+03,  3.91965555e+03,\n",
       "        3.57535296e+03,  3.26125632e+03,  2.97472200e+03,  2.71333666e+03,\n",
       "        2.47489737e+03,  2.25739344e+03,  2.05898972e+03,  1.87801145e+03,\n",
       "        1.71293027e+03,  1.56235151e+03,  1.42500258e+03,  1.29972231e+03,\n",
       "        1.18545124e+03,  1.08122274e+03,  9.86154936e+02,  8.99443254e+02,\n",
       "        8.20353696e+02,  7.48216661e+02,  6.82421303e+02,  6.22410389e+02,\n",
       "        5.67675603e+02,  5.17753260e+02,  4.72220394e+02,  4.30691186e+02,\n",
       "        3.92813707e+02,  3.58266946e+02,  3.26758094e+02,  2.98020073e+02,\n",
       "        2.71809272e+02,  2.47903491e+02,  2.26100059e+02,  2.06214119e+02,\n",
       "        1.88077063e+02,  1.71535104e+02,  1.56447977e+02,  1.42687745e+02,\n",
       "        1.30137723e+02,  1.18691482e+02,  1.08251952e+02,  9.87305990e+01,\n",
       "        9.00466730e+01,  8.21265249e+01,  7.49029820e+01,  6.83147789e+01,\n",
       "        6.23060373e+01,  5.68257936e+01,  5.18275656e+01,  4.72689590e+01,\n",
       "        4.31113082e+01,  3.93193478e+01,  3.58609140e+01,  3.27066720e+01,\n",
       "        2.98298665e+01,  2.72060959e+01,  2.48131043e+01,  2.26305935e+01,\n",
       "        2.06400505e+01,  1.88245905e+01,  1.71688139e+01,  1.56586756e+01,\n",
       "        1.42813656e+01,  1.30252009e+01,  1.18795258e+01,  1.08346219e+01,\n",
       "        9.88162581e+00,  9.01245342e+00,  8.21973185e+00,  7.49673665e+00,\n",
       "        6.83733485e+00,  6.23593293e+00,  5.68742931e+00,  5.18717119e+00,\n",
       "        4.73091497e+00,  4.31479034e+00,  3.93526740e+00,  3.58912671e+00,\n",
       "        3.27343205e+00,  2.98550542e+00,  2.72290441e+00,  2.48340140e+00,\n",
       "        2.26496473e+00,  2.06574145e+00,  1.88404157e+00,  1.71832376e+00,\n",
       "        1.56718227e+00,  1.42933497e+00,  1.30361253e+00,  1.18894847e+00,\n",
       "        1.08437011e+00,  9.88990320e-01,  9.02000011e-01,  8.22661253e-01,\n",
       "        7.50301030e-01,  6.84305516e-01,  6.24114882e-01,  5.69218537e-01,\n",
       "        5.19150804e-01,  4.73486963e-01,  4.31839655e-01,  3.93855590e-01,\n",
       "        3.59212555e-01,  3.27616677e-01,  2.98799934e-01,  2.72517872e-01,\n",
       "        2.48547547e-01,  2.26685621e-01,  2.06746643e-01,  1.88561471e-01,\n",
       "        1.71975844e-01,  1.56849067e-01,  1.43052822e-01,  1.30470078e-01,\n",
       "        1.18994095e-01,  1.08527526e-01,  9.89815822e-02,  9.02752881e-02,\n",
       "        8.23347885e-02,  7.50927270e-02,  6.84876659e-02,  6.24635782e-02,\n",
       "        5.69693608e-02,  5.19584087e-02,  4.73882130e-02,  4.32200063e-02,\n",
       "        3.94184295e-02,  3.59512344e-02,  3.27890095e-02,  2.99049299e-02,\n",
       "        2.72745306e-02,  2.48754974e-02,  2.26874804e-02,  2.06919182e-02,\n",
       "        1.88718836e-02,  1.72119366e-02,  1.56979968e-02,  1.43172209e-02,\n",
       "        1.30578964e-02,  1.19093403e-02,  1.08618099e-02,  9.90641898e-03,\n",
       "        9.03506296e-03,  8.24035034e-03,  7.51553954e-03,  6.85448228e-03,\n",
       "        6.25157069e-03,  5.70169057e-03,  5.20017706e-03,  4.74277613e-03,\n",
       "        4.32560753e-03,  3.94513262e-03,  3.59812376e-03,  3.28163738e-03,\n",
       "        2.99298873e-03,  2.72972924e-03,  2.48962573e-03,  2.27064141e-03,\n",
       "        2.07091870e-03,  1.88876340e-03,  1.72263048e-03,  1.57111021e-03,\n",
       "        1.43291730e-03,  1.30687963e-03,  1.19192797e-03,  1.08708701e-03,\n",
       "        9.91467890e-04,  9.04259503e-04,  8.24721667e-04,  7.52180199e-04,\n",
       "        6.86019247e-04,  6.25677676e-04,  5.70643886e-04,  5.20450590e-04,\n",
       "        4.74672392e-04,  4.32920789e-04,  3.94841519e-04,  3.60111776e-04,\n",
       "        3.28436637e-04,  2.99547640e-04,  2.73199828e-04,  2.49169435e-04,\n",
       "        2.27252816e-04,  2.07263944e-04,  1.89033191e-04,  1.72406089e-04,\n",
       "        1.57241422e-04,  1.43410605e-04,  1.30796415e-04,  1.19291701e-04,\n",
       "        1.08798948e-04,  9.92291320e-05,  9.05010198e-05,  8.25406529e-05,\n",
       "        7.52804822e-05,  6.86588781e-05,  6.26197011e-05,  5.71115582e-05,\n",
       "        5.20878227e-05,  4.75061632e-05,  4.33277481e-05,  3.95170179e-05,\n",
       "        3.60415129e-05,  3.28715188e-05,  2.99804897e-05,  2.73438639e-05,\n",
       "        2.49389101e-05,  2.27451892e-05,  2.07445264e-05,  1.89198844e-05,\n",
       "        1.72555731e-05,  1.57377167e-05,  1.43535141e-05,  1.30910526e-05,\n",
       "        1.19393237e-05,  1.08892939e-05,  9.93156151e-06,  9.05795070e-06,\n",
       "        8.26121371e-06,  7.53465299e-06,  6.87198286e-06,  6.26746259e-06,\n",
       "        5.71589295e-06,  5.21261739e-06,  4.75352515e-06,  4.33504954e-06,\n",
       "        3.95369630e-06,  3.60578201e-06,  3.28842876e-06,  2.99914003e-06,\n",
       "        2.73557981e-06,  2.49513109e-06,  2.27574107e-06,  2.07563669e-06,\n",
       "        1.89191523e-06,  1.72641490e-06,  1.57480840e-06,  1.43629020e-06,\n",
       "        1.31003325e-06,  1.19497636e-06,  1.09015187e-06,  9.94642614e-07,\n",
       "        9.07531413e-07,  8.27922856e-07,  7.55381861e-07,  6.89361133e-07,\n",
       "        6.29171994e-07,  5.74125764e-07,  5.23543074e-07,  4.77276055e-07,\n",
       "        4.35158072e-07,  3.96789223e-07,  3.61769606e-07,  3.24176229e-07,\n",
       "        2.97553340e-07,  2.72564857e-07,  2.49210780e-07,  2.27491108e-07,\n",
       "        2.07405842e-07,  1.88858085e-07,  1.71723553e-07,  1.56001779e-07,\n",
       "        1.41692762e-07,  1.28796502e-07,  1.17313001e-07,  1.07090922e-07,\n",
       "        9.76761276e-08,  8.90380168e-08,  8.11765896e-08,  7.40918459e-08,\n",
       "        6.77837858e-08,  6.22123847e-08,  5.70751163e-08,  5.23095035e-08,\n",
       "        4.79155464e-08,  4.38932450e-08,  4.02425992e-08,  3.69602988e-08,\n",
       "        3.39364272e-08,  3.11175678e-08,  2.85037208e-08,  2.60948860e-08,\n",
       "        2.38910635e-08,  2.18922534e-08,  2.00629275e-08,  1.83606351e-08,\n",
       "        1.67852939e-08,  1.53369039e-08,  1.40154651e-08,  1.28209774e-08,\n",
       "        1.17405934e-08,  1.07381876e-08,  9.81159241e-09,  8.96080769e-09,\n",
       "        8.18583348e-09,  7.48666976e-09,  6.85976400e-09,  6.28036461e-09,\n",
       "        5.74371515e-09,  5.24981562e-09,  4.79866603e-09,  4.39026637e-09,\n",
       "        4.02416967e-09,  3.68779931e-09,  3.37542654e-09,  3.08705137e-09,\n",
       "        2.82267379e-09,  2.58229379e-09,  2.36591139e-09,  2.16869787e-09,\n",
       "        1.98528677e-09,  1.81567442e-09,  1.65986082e-09,  1.51784596e-09,\n",
       "        1.38962984e-09,  1.27367901e-09,  1.16595215e-09,  1.06623485e-09,\n",
       "        9.74527134e-10,  8.90828986e-10,  8.15140411e-10,  7.47065995e-10,\n",
       "        6.84060181e-10,  6.25668494e-10,  5.71890934e-10,  5.22727500e-10,\n",
       "        4.78178194e-10,  4.30354191e-10,  3.60670032e-10,  2.93777570e-10,\n",
       "        2.29676806e-10,  1.68367739e-10,  1.09850370e-10,  5.41246991e-11,\n",
       "        1.19072574e-12, -4.89515499e-11, -9.63021278e-11, -1.40861008e-10,\n",
       "       -1.82628191e-10, -2.21603675e-10, -2.57787462e-10, -2.91179552e-10,\n",
       "       -3.21779943e-10, -3.49588637e-10, -3.74605633e-10, -3.96830932e-10,\n",
       "       -4.16264533e-10, -4.32906436e-10, -4.46756641e-10, -4.57815148e-10,\n",
       "       -4.66081958e-10, -4.71557070e-10, -4.74240485e-10, -4.74132201e-10,\n",
       "       -4.71232220e-10, -4.65540542e-10, -4.57057165e-10, -4.45782091e-10,\n",
       "       -4.31715319e-10, -4.14856849e-10, -3.95206682e-10, -3.72764817e-10,\n",
       "       -3.47531254e-10, -3.19534885e-10, -3.27821964e-10, -3.35417561e-10,\n",
       "       -3.42321676e-10, -3.48534309e-10, -3.54055460e-10, -3.58885128e-10,\n",
       "       -3.63023314e-10, -3.66470018e-10, -3.69225239e-10, -3.71288979e-10,\n",
       "       -3.72661236e-10, -3.73342011e-10, -3.73331303e-10, -3.72629114e-10,\n",
       "       -3.71235442e-10, -3.69150288e-10, -3.66373651e-10, -3.62905532e-10,\n",
       "       -3.58745932e-10, -3.53894848e-10, -3.48352283e-10, -3.42118235e-10,\n",
       "       -3.35192706e-10, -3.27575693e-10, -3.19267199e-10, -3.10267222e-10,\n",
       "       -3.00575764e-10, -2.90192823e-10, -2.79118399e-10, -2.67352494e-10,\n",
       "       -2.54895106e-10, -2.41746236e-10, -2.27905883e-10, -2.13374049e-10,\n",
       "       -1.98150732e-10, -1.82235933e-10, -1.73766833e-10, -1.70016502e-10,\n",
       "       -1.66266172e-10, -1.62515841e-10, -1.58765510e-10, -1.55015180e-10,\n",
       "       -1.51264849e-10, -1.47514519e-10, -1.43764188e-10, -1.40013857e-10,\n",
       "       -1.36263527e-10, -1.32513196e-10, -1.28762866e-10, -1.25012535e-10,\n",
       "       -1.21262204e-10, -1.17511874e-10, -1.13761543e-10, -1.10011213e-10,\n",
       "       -1.06260882e-10, -1.02510552e-10, -9.87602209e-11, -9.50098903e-11,\n",
       "       -9.12595597e-11, -8.75092292e-11, -8.37588986e-11, -8.00085680e-11,\n",
       "       -7.62582374e-11, -7.25079068e-11, -6.87575762e-11, -6.50072456e-11,\n",
       "       -6.12569150e-11, -5.75065844e-11, -5.37562538e-11, -5.00059232e-11,\n",
       "       -4.62555927e-11, -4.25052621e-11, -4.06758662e-11, -4.05667277e-11,\n",
       "       -4.04575893e-11, -4.03484508e-11, -4.02393124e-11, -4.01301740e-11,\n",
       "       -4.00210355e-11, -3.99118971e-11, -3.98027586e-11, -3.96936202e-11,\n",
       "       -3.95844818e-11, -3.94753433e-11, -3.93662049e-11, -3.92570664e-11,\n",
       "       -3.91479280e-11, -3.90387896e-11, -3.89296511e-11, -3.88205127e-11,\n",
       "       -3.87113742e-11, -3.86022358e-11, -3.84930974e-11, -3.83839589e-11,\n",
       "       -3.82748205e-11, -3.81656820e-11, -3.80565436e-11, -3.79474052e-11,\n",
       "       -3.78382667e-11, -3.77291283e-11, -3.76199898e-11, -3.75108514e-11,\n",
       "       -3.74017130e-11, -3.72925745e-11, -3.71834361e-11, -3.70742976e-11,\n",
       "       -3.69651592e-11, -3.68560208e-11, -3.67468823e-11, -3.66377439e-11,\n",
       "       -3.65286054e-11, -3.64194670e-11, -3.63103286e-11, -3.62011901e-11,\n",
       "       -3.60920517e-11, -3.59829132e-11, -3.58737748e-11, -3.57646364e-11,\n",
       "       -3.56554979e-11, -3.55463595e-11, -3.54372210e-11, -3.53280826e-11,\n",
       "       -3.52189442e-11, -3.51098057e-11, -3.50006673e-11, -3.48915288e-11,\n",
       "       -3.47823904e-11, -3.46732520e-11, -3.45641135e-11, -3.44549751e-11,\n",
       "       -3.43458366e-11, -3.42366982e-11, -3.41275598e-11, -3.40184213e-11,\n",
       "       -3.39092829e-11, -3.38001444e-11, -3.36910060e-11, -3.35818676e-11,\n",
       "       -3.34727291e-11, -3.33635907e-11, -3.32544522e-11, -3.31453138e-11,\n",
       "       -3.30361754e-11, -3.29270369e-11, -3.28178985e-11, -3.27087600e-11,\n",
       "       -3.25996216e-11, -3.24904832e-11, -3.23813447e-11, -3.22722063e-11,\n",
       "       -3.21630678e-11, -3.20539294e-11, -3.19447910e-11, -3.18356525e-11,\n",
       "       -3.17265141e-11, -3.16173757e-11, -3.15082372e-11, -3.13990988e-11,\n",
       "       -3.12899603e-11, -3.11808219e-11, -3.10716835e-11, -3.09625450e-11,\n",
       "       -3.08534066e-11, -3.07442681e-11, -3.06351297e-11, -3.05259913e-11,\n",
       "       -3.04168528e-11, -3.03077144e-11, -3.01985759e-11, -3.00894375e-11,\n",
       "       -2.99802991e-11, -2.98711606e-11, -2.97620222e-11, -2.96528837e-11,\n",
       "       -2.95437453e-11, -2.94346069e-11, -2.93254684e-11, -2.92163300e-11,\n",
       "       -2.91071915e-11, -2.89980531e-11, -2.88889147e-11, -2.87797762e-11,\n",
       "       -2.86706378e-11, -2.85614993e-11, -2.84523609e-11, -2.83432225e-11,\n",
       "       -2.82340840e-11, -2.81249456e-11, -2.80158071e-11, -2.79066687e-11,\n",
       "       -2.77975303e-11, -2.76883918e-11, -2.75792534e-11, -2.74701149e-11,\n",
       "       -2.73609765e-11, -2.72518381e-11, -2.71426996e-11, -2.70335612e-11,\n",
       "       -2.69244227e-11, -2.68152843e-11, -2.67061459e-11, -2.65970074e-11,\n",
       "       -2.64878690e-11, -2.63787305e-11, -2.62695921e-11, -2.61604537e-11,\n",
       "       -2.60513152e-11, -2.59421768e-11, -2.58330383e-11, -2.57238999e-11,\n",
       "       -2.56147615e-11, -2.55056230e-11, -2.53964846e-11, -2.52873461e-11,\n",
       "       -2.51782077e-11, -2.50690693e-11, -2.49599308e-11, -2.48507924e-11,\n",
       "       -2.47416539e-11, -2.46325155e-11, -2.45233771e-11, -2.44142386e-11,\n",
       "       -2.43051002e-11, -2.41959617e-11, -2.40868233e-11, -2.39776849e-11,\n",
       "       -2.38685464e-11, -2.37594080e-11, -2.36502695e-11, -2.35411311e-11,\n",
       "       -2.34319927e-11, -2.33228542e-11, -2.32137158e-11, -2.31045773e-11,\n",
       "       -2.29954389e-11, -2.28863005e-11, -2.27771620e-11, -2.26680236e-11,\n",
       "       -2.25588851e-11, -2.24497467e-11, -2.23406083e-11, -2.22314698e-11,\n",
       "       -2.21223314e-11, -2.20131929e-11, -2.19040545e-11, -2.17949161e-11,\n",
       "       -2.16857776e-11, -2.15766392e-11, -2.14675008e-11, -2.13583623e-11,\n",
       "       -2.12492239e-11, -2.11400854e-11, -2.10309470e-11, -2.09218086e-11,\n",
       "       -2.08126701e-11, -2.07035317e-11, -2.05943932e-11, -2.04852548e-11,\n",
       "       -2.03761164e-11, -2.02669779e-11, -2.01578395e-11, -2.00487010e-11,\n",
       "       -1.99395626e-11, -1.98304242e-11, -1.97212857e-11, -1.96121473e-11,\n",
       "       -1.95030088e-11, -1.93938704e-11, -1.92847320e-11, -1.91755935e-11,\n",
       "       -1.90664551e-11, -1.89573166e-11, -1.88481782e-11, -1.87390398e-11,\n",
       "       -1.86299013e-11, -1.85207629e-11, -1.84116244e-11, -1.83024860e-11,\n",
       "       -1.81933476e-11, -1.80842091e-11, -1.79750707e-11, -1.78659322e-11,\n",
       "       -1.77567938e-11, -1.76476554e-11, -1.75385169e-11, -1.74293785e-11,\n",
       "       -1.73202400e-11, -1.72111016e-11, -1.71019632e-11, -1.69928247e-11,\n",
       "       -1.68836863e-11, -1.67745478e-11, -1.66654094e-11, -1.65562710e-11,\n",
       "       -1.64471325e-11, -1.63379941e-11, -1.62288556e-11, -1.61197172e-11,\n",
       "       -1.60105788e-11, -1.59014403e-11, -1.57923019e-11, -1.56831634e-11,\n",
       "       -1.55740250e-11, -1.54648866e-11, -1.53557481e-11, -1.52466097e-11,\n",
       "       -1.51374712e-11, -1.50283328e-11, -1.49191944e-11, -1.48100559e-11,\n",
       "       -1.47009175e-11, -1.45917790e-11, -1.44826406e-11, -1.43735022e-11,\n",
       "       -1.42643637e-11, -1.41552253e-11, -1.40460868e-11, -1.39369484e-11,\n",
       "       -1.38278100e-11, -1.37186715e-11, -1.36095331e-11, -1.35003946e-11,\n",
       "       -1.33912562e-11, -1.32821178e-11, -1.31729793e-11, -1.30638409e-11,\n",
       "       -1.29547024e-11, -1.28455640e-11, -1.27364256e-11, -1.26272871e-11,\n",
       "       -1.25181487e-11, -1.24090102e-11, -1.22998718e-11, -1.21907334e-11,\n",
       "       -1.20815949e-11, -1.19724565e-11, -1.18633180e-11, -1.17541796e-11,\n",
       "       -1.16450412e-11, -1.15359027e-11, -1.14267643e-11, -1.13176258e-11,\n",
       "       -1.12084874e-11, -1.10993490e-11, -1.09902105e-11, -1.08810721e-11,\n",
       "       -1.07719337e-11, -1.06627952e-11, -1.05536568e-11, -1.04445183e-11,\n",
       "       -1.03353799e-11, -1.02262415e-11, -1.01171030e-11, -1.00079646e-11,\n",
       "       -9.89882613e-12, -9.78968769e-12, -9.68054925e-12, -9.57141081e-12,\n",
       "       -9.46227237e-12, -9.35313393e-12, -9.24399549e-12, -9.13485705e-12,\n",
       "       -9.02571861e-12, -8.91658017e-12, -8.80744173e-12, -8.69830329e-12,\n",
       "       -8.58916486e-12, -8.48002642e-12, -8.37088798e-12, -8.26174954e-12,\n",
       "       -8.15261110e-12, -8.04347266e-12, -7.93433422e-12, -7.82519578e-12,\n",
       "       -7.71605734e-12, -7.60691890e-12, -7.49778046e-12, -7.38864202e-12,\n",
       "       -7.27950358e-12, -7.17036514e-12, -7.06122670e-12, -6.95208826e-12,\n",
       "       -6.84294982e-12, -6.73381138e-12, -6.62467294e-12, -6.51553450e-12,\n",
       "       -6.40639606e-12, -6.29725762e-12, -6.18811918e-12, -6.07898074e-12,\n",
       "       -5.96984230e-12, -5.86070386e-12, -5.75156542e-12])"
      ]
     },
     "execution_count": 29,
     "metadata": {},
     "output_type": "execute_result"
    }
   ],
   "source": [
    "popt=[0.4, 0.1]\n",
    "fit_odeint(t_Germany, *popt)"
   ]
  },
  {
   "cell_type": "code",
   "execution_count": 30,
   "metadata": {},
   "outputs": [
    {
     "name": "stderr",
     "output_type": "stream",
     "text": [
      "C:\\Users\\RAMEEZ KHAN\\anaconda3\\lib\\site-packages\\scipy\\integrate\\odepack.py:247: ODEintWarning: Excess work done on this call (perhaps wrong Dfun type). Run with full_output = 1 to get quantitative information.\n",
      "  warnings.warn(warning_msg, ODEintWarning)\n",
      "<ipython-input-27-3cfdf291b9c0>:14: RuntimeWarning: overflow encountered in double_scalars\n",
      "  dS_dt = -beta*S*I/N0\n",
      "<ipython-input-27-3cfdf291b9c0>:15: RuntimeWarning: overflow encountered in double_scalars\n",
      "  dI_dt = beta*S*I/N0-gamma*I\n",
      "C:\\Users\\RAMEEZ KHAN\\anaconda3\\lib\\site-packages\\scipy\\integrate\\odepack.py:247: ODEintWarning: Illegal input detected (internal error). Run with full_output = 1 to get quantitative information.\n",
      "  warnings.warn(warning_msg, ODEintWarning)\n"
     ]
    }
   ],
   "source": [
    "popt_Germany, pcov_Germany = optimize.curve_fit(fit_odeint, t_Germany, ydata_Germany)\n",
    "perr_Germany = np.sqrt(np.diag(pcov_Germany))"
   ]
  },
  {
   "cell_type": "code",
   "execution_count": 31,
   "metadata": {},
   "outputs": [
    {
     "name": "stdout",
     "output_type": "stream",
     "text": [
      "standard deviation error:  [8.60560826e-05 1.84955433e-05] start infect: 117\n",
      "Optimal parameters: beta =  0.033745812054816374 and gamma =  -0.005420364370706291\n"
     ]
    }
   ],
   "source": [
    "print('standard deviation error: ', str(perr_Germany), 'start infect:', ydata_Germany[0])\n",
    "print('Optimal parameters: beta = ', popt_Germany[0], 'and gamma = ', popt_Germany[1])"
   ]
  },
  {
   "cell_type": "code",
   "execution_count": 32,
   "metadata": {},
   "outputs": [],
   "source": [
    "fitted_Germany = fit_odeint(t_Germany, *popt_Germany)"
   ]
  },
  {
   "cell_type": "code",
   "execution_count": 33,
   "metadata": {},
   "outputs": [
    {
     "data": {
      "image/png": "[encoded data removed]",
      "text/plain": [
       "<Figure size 1152x648 with 1 Axes>"
      ]
     },
     "metadata": {},
     "output_type": "display_data"
    },
    {
     "name": "stdout",
     "output_type": "stream",
     "text": [
      "Optimal parameters: beta =  0.033745812054816374 and gamma =  -0.005420364370706291\n",
      "Basic Reproduction Number R0:  -6.225746047109225\n"
     ]
    }
   ],
   "source": [
    "plt.semilogy(t_Germany, ydata_Germany, 'o',color='b')\n",
    "plt.semilogy(t_Germany, fitted_Germany, color='b')\n",
    "plt.title('Fit of SIR model for Germany cases')\n",
    "plt.ylabel('Population infected')\n",
    "plt.xlabel('Days')\n",
    "plt.show()\n",
    "print('Optimal parameters: beta = ', popt_Germany[0], 'and gamma = ', popt_Germany[1])\n",
    "print('Basic Reproduction Number R0: ',popt_Germany[0]/popt_Germany[1] )"
   ]
  },
  {
   "cell_type": "markdown",
   "metadata": {},
   "source": [
    "### Fitting the parameters of SIR model for India"
   ]
  },
  {
   "cell_type": "code",
   "execution_count": 34,
   "metadata": {},
   "outputs": [],
   "source": [
    "ydata_India = np.array(df_processed.India_infected[70:])\n",
    "#ydata_India = ydata_India.astype(int)\n",
    "t_India=np.arange(len(ydata_India))"
   ]
  },
  {
   "cell_type": "code",
   "execution_count": 35,
   "metadata": {},
   "outputs": [],
   "source": [
    "# Parameters\n",
    "\n",
    "#N0 = country_population_list[1] # Population size\n",
    "N0 = 10000000\n",
    "beta = 0.4\n",
    "gamma = 0.1  # 1(gamma) Person can infect 4(beta) people\n",
    "\n",
    "I0 = ydata_India[0]   # Initial infected size\n",
    "#S0 = N0-I0  # Population prone to infection\n",
    "S0 = N0-I0\n",
    "R0 = 0  # Initial recovered size"
   ]
  },
  {
   "cell_type": "code",
   "execution_count": 36,
   "metadata": {},
   "outputs": [
    {
     "data": {
      "text/plain": [
       "62.0"
      ]
     },
     "execution_count": 36,
     "metadata": {},
     "output_type": "execute_result"
    }
   ],
   "source": [
    "I0"
   ]
  },
  {
   "cell_type": "code",
   "execution_count": 37,
   "metadata": {},
   "outputs": [],
   "source": [
    "def fit_odeint(x, beta, gamma):\n",
    "    return integrate.odeint(SIR_model, (S0, I0, R0), t_India, args=(beta, gamma))[:,1] # we only would like to get dI"
   ]
  },
  {
   "cell_type": "code",
   "execution_count": 38,
   "metadata": {},
   "outputs": [
    {
     "data": {
      "text/plain": [
       "array([ 6.20000000e+01,  8.36909927e+01,  1.12970529e+02,  1.52493319e+02,\n",
       "        2.05842667e+02,  2.77855210e+02,  3.75059131e+02,  5.06265482e+02,\n",
       "        6.83365969e+02,  9.22409133e+02,  1.24505170e+03,  1.68051525e+03,\n",
       "        2.26822311e+03,  3.06135157e+03,  4.13160906e+03,  5.57566055e+03,\n",
       "        7.52375121e+03,  1.01512590e+04,  1.36941292e+04,  1.84694196e+04,\n",
       "        2.49025088e+04,  3.35628804e+04,  4.52107260e+04,  6.08568159e+04,\n",
       "        8.18379145e+04,  1.09909067e+05,  1.47351614e+05,  1.97090652e+05,\n",
       "        2.62806171e+05,  3.49006249e+05,  4.61006982e+05,  6.04733440e+05,\n",
       "        7.86227290e+05,  1.01074152e+06,  1.28135955e+06,  1.59724008e+06,\n",
       "        1.95186997e+06,  2.33201236e+06,  2.71813542e+06,  3.08674822e+06,\n",
       "        3.41425844e+06,  3.68114312e+06,  3.87499284e+06,  3.99155517e+06,\n",
       "        4.03384409e+06,  4.01006944e+06,  3.93128327e+06,  3.80937718e+06,\n",
       "        3.65569506e+06,  3.48025115e+06,  3.29141256e+06,  3.09588192e+06,\n",
       "        2.89884419e+06,  2.70418395e+06,  2.51471676e+06,  2.33240474e+06,\n",
       "        2.15854385e+06,  1.99391938e+06,  1.83893166e+06,  1.69369549e+06,\n",
       "        1.55811778e+06,  1.43195754e+06,  1.31487168e+06,  1.20644989e+06,\n",
       "        1.10624079e+06,  1.01377150e+06,  9.28562074e+05,  8.50135950e+05,\n",
       "        7.78027474e+05,  7.11787094e+05,  6.50984830e+05,  5.95212445e+05,\n",
       "        5.44084630e+05,  4.97239472e+05,  4.54338379e+05,  4.15065629e+05,\n",
       "        3.79127648e+05,  3.46252098e+05,  3.16186853e+05,  2.88698903e+05,\n",
       "        2.63573227e+05,  2.40611661e+05,  2.19631787e+05,  2.00465844e+05,\n",
       "        1.82959687e+05,  1.66971791e+05,  1.52372307e+05,  1.39042167e+05,\n",
       "        1.26872250e+05,  1.15762599e+05,  1.05621689e+05,  9.63657480e+04,\n",
       "        8.79181278e+04,  8.02087172e+04,  7.31734039e+04,  6.67535751e+04,\n",
       "        6.08956579e+04,  5.55506957e+04,  5.06739585e+04,  4.62245847e+04,\n",
       "        4.21652522e+04,  3.84618761e+04,  3.50833322e+04,  3.20012023e+04,\n",
       "        2.91895420e+04,  2.66246674e+04,  2.42849597e+04,  2.21506870e+04,\n",
       "        2.02038404e+04,  1.84279849e+04,  1.68081226e+04,  1.53305674e+04,\n",
       "        1.39828316e+04,  1.27535204e+04,  1.16322377e+04,  1.06094983e+04,\n",
       "        9.67664821e+03,  8.82579265e+03,  8.04972910e+03,  7.34188703e+03,\n",
       "        6.69627241e+03,  6.10741744e+03,  5.57033417e+03,  5.08047276e+03,\n",
       "        4.63368280e+03,  4.22617849e+03,  3.85450653e+03,  3.51551701e+03,\n",
       "        3.20633678e+03,  2.92434513e+03,  2.66715167e+03,  2.43257607e+03,\n",
       "        2.21862966e+03,  2.02349851e+03,  1.84552821e+03,  1.68320971e+03,\n",
       "        1.53516669e+03,  1.40014379e+03,  1.27699602e+03,  1.16467907e+03,\n",
       "        1.06224046e+03,  9.68811450e+02,  8.83599681e+02,  8.05882486e+02,\n",
       "        7.35000733e+02,  6.70353261e+02,  6.11391769e+02,  5.57616177e+02,\n",
       "        5.08570383e+02,  4.63838395e+02,  4.23040807e+02,  3.85831578e+02,\n",
       "        3.51895104e+02,  3.20943533e+02,  2.92714336e+02,  2.66968065e+02,\n",
       "        2.43486338e+02,  2.22069978e+02,  2.02537325e+02,  1.84722698e+02,\n",
       "        1.68474986e+02,  1.53656372e+02,  1.40141156e+02,  1.27814698e+02,\n",
       "        1.16572439e+02,  1.06319018e+02,  9.69674577e+01,  8.84384355e+01,\n",
       "        8.06596031e+01,  7.35649761e+01,  6.70943743e+01,  6.11929099e+01,\n",
       "        5.58105236e+01,  5.09015584e+01,  4.64243739e+01,  4.23409915e+01,\n",
       "        3.86167738e+01,  3.52201293e+01,  3.21222457e+01,  2.92968447e+01,\n",
       "        2.67199593e+01,  2.43697310e+01,  2.22262232e+01,  2.02712536e+01,\n",
       "        1.84882386e+01,  1.68620537e+01,  1.53789043e+01,  1.40262095e+01,\n",
       "        1.27924946e+01,  1.16672946e+01,  1.06410647e+01,  9.70509972e+00,\n",
       "        8.85146018e+00,  8.07290487e+00,  7.36282961e+00,  6.71521099e+00,\n",
       "        6.12455552e+00,  5.58585281e+00,  5.09453322e+00,  4.64642904e+00,\n",
       "        4.23773913e+00,  3.86499670e+00,  3.52503989e+00,  3.21498495e+00,\n",
       "        2.93220177e+00,  2.67429160e+00,  2.43906663e+00,  2.22453156e+00,\n",
       "        2.02886653e+00,  1.85041178e+00,  1.68765352e+00,  1.53921113e+00,\n",
       "        1.40382542e+00,  1.28034793e+00,  1.16773127e+00,  1.06502013e+00,\n",
       "        9.71343235e-01,  8.85905960e-01,  8.07983568e-01,  7.36915060e-01,\n",
       "        6.72097587e-01,  6.12981320e-01,  5.59064793e-01,  5.09890650e-01,\n",
       "        4.65041757e-01,  4.24137679e-01,  3.86831435e-01,  3.52806569e-01,\n",
       "        3.21774457e-01,  2.93471863e-01,  2.67658705e-01,  2.44116017e-01,\n",
       "        2.22644094e-01,  2.03060795e-01,  1.85200002e-01,  1.68910205e-01,\n",
       "        1.54053225e-01,  1.40503032e-01,  1.28144685e-01,  1.16873353e-01,\n",
       "        1.06593422e-01,  9.72176925e-02,  8.86666319e-02,  8.08677057e-02,\n",
       "        7.37547560e-02,  6.72674454e-02,  6.13507449e-02,  5.59544645e-02,\n",
       "        5.10328300e-02,  4.65440913e-02,  4.24501731e-02,  3.87163463e-02,\n",
       "        3.53109395e-02,  3.22050646e-02,  2.93723765e-02,  2.67888449e-02,\n",
       "        2.44325556e-02,  2.22835201e-02,  2.03235095e-02,  1.85358971e-02,\n",
       "        1.69055194e-02,  1.54185462e-02,  1.40623639e-02,  1.28254684e-02,\n",
       "        1.16973677e-02,  1.06684924e-02,  9.73011457e-03,  8.87427463e-03,\n",
       "        8.09371234e-03,  7.38180678e-03,  6.73251881e-03,  6.14034095e-03,\n",
       "        5.60024970e-03,  5.10766373e-03,  4.65840455e-03,  4.24866126e-03,\n",
       "        3.87495814e-03,  3.53412511e-03,  3.22327107e-03,  2.93975901e-03,\n",
       "        2.68118413e-03,  2.44535289e-03,  2.23026492e-03,  2.03409561e-03,\n",
       "        1.85518116e-03,  1.69200365e-03,  1.54317858e-03,  1.40744383e-03,\n",
       "        1.28364795e-03,  1.17074062e-03,  1.06776430e-03,  9.73845952e-04,\n",
       "        8.88188245e-04,  8.10065010e-04,  7.38813361e-04,  6.73828675e-04,\n",
       "        6.14560175e-04,  5.60504628e-04,  5.11203741e-04,  4.66239369e-04,\n",
       "        4.25229836e-04,  3.87827538e-04,  3.53714921e-04,  3.22602714e-04,\n",
       "        2.94227301e-04,  2.68347627e-04,  2.44744314e-04,  2.23217153e-04,\n",
       "        2.03583371e-04,  1.85676612e-04,  1.69344866e-04,  1.54449574e-04,\n",
       "        1.40864542e-04,  1.28474381e-04,  1.17174025e-04,  1.06867664e-04,\n",
       "        9.74677716e-05,  8.88946765e-05,  8.10757106e-05,  7.39444328e-05,\n",
       "        6.74404259e-05,  6.15083510e-05,  5.60979300e-05,  5.11635270e-05,\n",
       "        4.66634304e-05,  4.25593155e-05,  3.88162652e-05,  3.54022606e-05,\n",
       "        3.22886340e-05,  2.94490174e-05,  2.68589956e-05,  2.44964116e-05,\n",
       "        2.23417281e-05,  2.03766282e-05,  1.85842210e-05,  1.69495018e-05,\n",
       "        1.54587225e-05,  1.40990764e-05,  1.28586729e-05,  1.17278038e-05,\n",
       "        1.06963333e-05,  9.75547085e-06,  8.89738575e-06,  8.11487534e-06,\n",
       "        7.40117680e-06,  6.75011514e-06,  6.15609232e-06,  5.61409150e-06,\n",
       "        5.11968615e-06,  4.66903493e-06,  4.25830508e-06,  3.88358784e-06,\n",
       "        3.54179722e-06,  3.23025408e-06,  2.94637033e-06,  2.68736102e-06,\n",
       "        2.45104564e-06,  2.23552846e-06,  2.03795425e-06,  1.85947934e-06,\n",
       "        1.69609404e-06,  1.54690179e-06,  1.41094736e-06,  1.28704890e-06,\n",
       "        1.17417087e-06,  1.07129920e-06,  9.77419815e-07,  8.91642439e-07,\n",
       "        8.13562446e-07,  7.42463556e-07,  6.77582813e-07,  6.18157261e-07,\n",
       "        5.63576257e-07,  5.13836086e-07,  4.68545974e-07,  4.27255913e-07,\n",
       "        3.89515893e-07,  3.50819806e-07,  3.21596036e-07,  2.94242264e-07,\n",
       "        2.68758491e-07,  2.45144718e-07,  2.23355824e-07,  2.03201427e-07,\n",
       "        1.84660234e-07,  1.67732247e-07,  1.52417465e-07,  1.38715888e-07,\n",
       "        1.26583793e-07,  1.15494846e-07,  1.05294862e-07,  9.59838417e-08,\n",
       "        8.75617846e-08,  8.00286908e-08,  7.33821452e-08,  6.73483553e-08,\n",
       "        6.17408308e-08,  5.65595719e-08,  5.18045785e-08,  4.74758506e-08,\n",
       "        4.35733882e-08,  4.00269780e-08,  3.67175305e-08,  3.36430862e-08,\n",
       "        3.08036451e-08,  2.81992073e-08,  2.58297728e-08,  2.36785770e-08,\n",
       "        2.16794973e-08,  1.98257698e-08,  1.81173944e-08,  1.65543712e-08,\n",
       "        1.51367002e-08,  1.38604539e-08,  1.26827598e-08,  1.15918576e-08,\n",
       "        1.05877471e-08,  9.67042836e-09,  8.83990144e-09,  8.09588969e-09,\n",
       "        7.41545773e-09,  6.78398950e-09,  6.20148501e-09,  5.66794424e-09,\n",
       "        5.18336721e-09,  4.74775390e-09,  4.35287257e-09,  3.98564816e-09,\n",
       "        3.64591459e-09,  3.33367185e-09,  3.04891995e-09,  2.79165889e-09,\n",
       "        2.55956734e-09,  2.34407951e-09,  2.14439685e-09,  1.96051935e-09,\n",
       "        1.79244703e-09,  1.64017988e-09,  1.50322637e-09,  1.37670014e-09,\n",
       "        1.25934699e-09,  1.15116691e-09,  1.05215989e-09,  9.62325956e-10,\n",
       "        8.81627149e-10,  8.07651870e-10,  7.38961094e-10,  6.75554823e-10,\n",
       "        6.17433055e-10,  5.64595791e-10,  5.17043030e-10,  4.41878141e-10,\n",
       "        3.66151852e-10,  2.93639601e-10,  2.24341389e-10,  1.58257216e-10,\n",
       "        9.53870812e-11,  3.57309856e-11, -2.07110712e-11, -7.39390892e-11,\n",
       "       -1.23953068e-10, -1.70753009e-10, -2.14338911e-10, -2.54710773e-10,\n",
       "       -2.91868597e-10, -3.25812383e-10, -3.56542129e-10, -3.84057837e-10,\n",
       "       -4.08359506e-10, -4.29447136e-10, -4.47320727e-10, -4.61980280e-10,\n",
       "       -4.73425793e-10, -4.81657268e-10, -4.86674704e-10, -4.88478102e-10,\n",
       "       -4.87067460e-10, -4.82442780e-10, -4.74604061e-10, -4.63551303e-10,\n",
       "       -4.49284506e-10, -4.31803671e-10, -4.11108797e-10, -3.87199883e-10,\n",
       "       -3.60076932e-10, -3.40542905e-10, -3.50182290e-10, -3.58996913e-10,\n",
       "       -3.66986776e-10, -3.74151877e-10, -3.80492218e-10, -3.86007797e-10,\n",
       "       -3.90698616e-10, -3.94564673e-10, -3.97605969e-10, -3.99822504e-10,\n",
       "       -4.01214278e-10, -4.01781291e-10, -4.01523543e-10, -4.00441034e-10,\n",
       "       -3.98533764e-10, -3.95801732e-10, -3.92244940e-10, -3.87863386e-10,\n",
       "       -3.82657072e-10, -3.76625996e-10, -3.69770160e-10, -3.62089562e-10,\n",
       "       -3.53584203e-10, -3.44254083e-10, -3.34099203e-10, -3.23119561e-10,\n",
       "       -3.11315158e-10, -2.98685993e-10, -2.85232068e-10, -2.70953382e-10,\n",
       "       -2.55849935e-10, -2.39921726e-10, -2.23168757e-10, -2.05591027e-10,\n",
       "       -2.01403578e-10, -1.96915248e-10, -1.92426919e-10, -1.87938589e-10,\n",
       "       -1.83450260e-10, -1.78961930e-10, -1.74473600e-10, -1.69985271e-10,\n",
       "       -1.65496941e-10, -1.61008612e-10, -1.56520282e-10, -1.52031952e-10,\n",
       "       -1.47543623e-10, -1.43055293e-10, -1.38566964e-10, -1.34078634e-10,\n",
       "       -1.29590304e-10, -1.25101975e-10, -1.20613645e-10, -1.16125316e-10,\n",
       "       -1.11636986e-10, -1.07148657e-10, -1.02660327e-10, -9.81719973e-11,\n",
       "       -9.36836677e-11, -8.91953381e-11, -8.47070085e-11, -8.02186790e-11,\n",
       "       -7.57303494e-11, -7.12420198e-11, -6.67536902e-11, -6.22653606e-11,\n",
       "       -5.77770310e-11, -5.32887014e-11, -4.88003718e-11, -4.86146597e-11,\n",
       "       -4.84781880e-11, -4.83417162e-11, -4.82052444e-11, -4.80687727e-11,\n",
       "       -4.79323009e-11, -4.77958292e-11, -4.76593574e-11, -4.75228857e-11,\n",
       "       -4.73864139e-11, -4.72499422e-11, -4.71134704e-11, -4.69769987e-11,\n",
       "       -4.68405269e-11, -4.67040552e-11, -4.65675834e-11, -4.64311117e-11,\n",
       "       -4.62946399e-11, -4.61581682e-11, -4.60216964e-11, -4.58852247e-11,\n",
       "       -4.57487529e-11, -4.56122812e-11, -4.54758094e-11, -4.53393377e-11,\n",
       "       -4.52028659e-11, -4.50663942e-11, -4.49299224e-11, -4.47934507e-11,\n",
       "       -4.46569789e-11, -4.45205072e-11, -4.43840354e-11, -4.42475636e-11,\n",
       "       -4.41110919e-11, -4.39746201e-11, -4.38381484e-11, -4.37016766e-11,\n",
       "       -4.35652049e-11, -4.34287331e-11, -4.32922614e-11, -4.31557896e-11,\n",
       "       -4.30193179e-11, -4.28828461e-11, -4.27463744e-11, -4.26099026e-11,\n",
       "       -4.24734309e-11, -4.23369591e-11, -4.22004874e-11, -4.20640156e-11,\n",
       "       -4.19275439e-11, -4.17910721e-11, -4.16546004e-11, -4.15181286e-11,\n",
       "       -4.13816569e-11, -4.12451851e-11, -4.11087134e-11, -4.09722416e-11,\n",
       "       -4.08357699e-11, -4.06992981e-11, -4.05628264e-11, -4.04263546e-11,\n",
       "       -4.02898828e-11, -4.01534111e-11, -4.00169393e-11, -3.98804676e-11,\n",
       "       -3.97439958e-11, -3.96075241e-11, -3.94710523e-11, -3.93345806e-11,\n",
       "       -3.91981088e-11, -3.90616371e-11, -3.89251653e-11, -3.87886936e-11,\n",
       "       -3.86522218e-11, -3.85157501e-11, -3.83792783e-11, -3.82428066e-11,\n",
       "       -3.81063348e-11, -3.79698631e-11, -3.78333913e-11, -3.76969196e-11,\n",
       "       -3.75604478e-11, -3.74239761e-11, -3.72875043e-11, -3.71510326e-11,\n",
       "       -3.70145608e-11, -3.68780891e-11, -3.67416173e-11, -3.66051456e-11,\n",
       "       -3.64686738e-11, -3.63322020e-11, -3.61957303e-11, -3.60592585e-11,\n",
       "       -3.59227868e-11, -3.57863150e-11, -3.56498433e-11, -3.55133715e-11,\n",
       "       -3.53768998e-11, -3.52404280e-11, -3.51039563e-11, -3.49674845e-11,\n",
       "       -3.48310128e-11, -3.46945410e-11, -3.45580693e-11, -3.44215975e-11,\n",
       "       -3.42851258e-11, -3.41486540e-11, -3.40121823e-11, -3.38757105e-11,\n",
       "       -3.37392388e-11, -3.36027670e-11, -3.34662953e-11, -3.33298235e-11,\n",
       "       -3.31933518e-11, -3.30568800e-11, -3.29204083e-11, -3.27839365e-11,\n",
       "       -3.26474648e-11, -3.25109930e-11, -3.23745212e-11, -3.22380495e-11,\n",
       "       -3.21015777e-11, -3.19651060e-11, -3.18286342e-11, -3.16921625e-11,\n",
       "       -3.15556907e-11, -3.14192190e-11, -3.12827472e-11, -3.11462755e-11,\n",
       "       -3.10098037e-11, -3.08733320e-11, -3.07368602e-11, -3.06003885e-11,\n",
       "       -3.04639167e-11, -3.03274450e-11, -3.01909732e-11, -3.00545015e-11,\n",
       "       -2.99180297e-11, -2.97815580e-11, -2.96450862e-11, -2.95086145e-11,\n",
       "       -2.93721427e-11, -2.92356710e-11, -2.90991992e-11, -2.89627275e-11,\n",
       "       -2.88262557e-11, -2.86897840e-11, -2.85533122e-11, -2.84168404e-11,\n",
       "       -2.82803687e-11, -2.81438969e-11, -2.80074252e-11, -2.78709534e-11,\n",
       "       -2.77344817e-11, -2.75980099e-11, -2.74615382e-11, -2.73250664e-11,\n",
       "       -2.71885947e-11, -2.70521229e-11, -2.69156512e-11, -2.67791794e-11,\n",
       "       -2.66427077e-11, -2.65062359e-11, -2.63697642e-11, -2.62332924e-11,\n",
       "       -2.60968207e-11, -2.59603489e-11, -2.58238772e-11, -2.56874054e-11,\n",
       "       -2.55509337e-11, -2.54144619e-11, -2.52779902e-11, -2.51415184e-11,\n",
       "       -2.50050467e-11, -2.48685749e-11, -2.47321032e-11, -2.45956314e-11,\n",
       "       -2.44591596e-11, -2.43226879e-11, -2.41862161e-11, -2.40497444e-11,\n",
       "       -2.39132726e-11, -2.37768009e-11, -2.36403291e-11, -2.35038574e-11,\n",
       "       -2.33673856e-11, -2.32309139e-11, -2.30944421e-11, -2.29579704e-11,\n",
       "       -2.28214986e-11, -2.26850269e-11, -2.25485551e-11, -2.24120834e-11,\n",
       "       -2.22756116e-11, -2.21391399e-11, -2.20026681e-11, -2.18661964e-11,\n",
       "       -2.17297246e-11, -2.15932529e-11, -2.14567811e-11, -2.13203094e-11,\n",
       "       -2.11838376e-11, -2.10473659e-11, -2.09108941e-11, -2.07744224e-11,\n",
       "       -2.06379506e-11, -2.05014788e-11, -2.03650071e-11, -2.02285353e-11,\n",
       "       -2.00920636e-11, -1.99555918e-11, -1.98191201e-11, -1.96826483e-11,\n",
       "       -1.95461766e-11, -1.94097048e-11, -1.92732331e-11, -1.91367613e-11,\n",
       "       -1.90002896e-11, -1.88638178e-11, -1.87273461e-11, -1.85908743e-11,\n",
       "       -1.84544026e-11, -1.83179308e-11, -1.81814591e-11, -1.80449873e-11,\n",
       "       -1.79085156e-11, -1.77720438e-11, -1.76355721e-11, -1.74991003e-11,\n",
       "       -1.73626286e-11, -1.72261568e-11, -1.70896851e-11, -1.69532133e-11,\n",
       "       -1.68167416e-11, -1.66802698e-11, -1.65437980e-11, -1.64073263e-11,\n",
       "       -1.62708545e-11, -1.61343828e-11, -1.59979110e-11, -1.58614393e-11,\n",
       "       -1.57249675e-11, -1.55884958e-11, -1.54520240e-11, -1.53155523e-11,\n",
       "       -1.51790805e-11, -1.50426088e-11, -1.49061370e-11, -1.47696653e-11,\n",
       "       -1.46331935e-11, -1.44967218e-11, -1.43602500e-11, -1.42237783e-11,\n",
       "       -1.40873065e-11, -1.39508348e-11, -1.38143630e-11, -1.36778913e-11,\n",
       "       -1.35414195e-11, -1.34049478e-11, -1.32684760e-11, -1.31320043e-11,\n",
       "       -1.29955325e-11, -1.28590608e-11, -1.27225890e-11, -1.25861172e-11,\n",
       "       -1.24496455e-11, -1.23131737e-11, -1.21767020e-11, -1.20402302e-11,\n",
       "       -1.19037585e-11, -1.17672867e-11, -1.16308150e-11, -1.14943432e-11,\n",
       "       -1.13578715e-11, -1.12213997e-11, -1.10849280e-11, -1.09484562e-11,\n",
       "       -1.08119845e-11, -1.06755127e-11, -1.05390410e-11, -1.04025692e-11,\n",
       "       -1.02660975e-11])"
      ]
     },
     "execution_count": 38,
     "metadata": {},
     "output_type": "execute_result"
    }
   ],
   "source": [
    "popt=[0.4, 0.1]\n",
    "fit_odeint(t_India, *popt)"
   ]
  },
  {
   "cell_type": "code",
   "execution_count": 39,
   "metadata": {},
   "outputs": [
    {
     "name": "stderr",
     "output_type": "stream",
     "text": [
      "C:\\Users\\RAMEEZ KHAN\\anaconda3\\lib\\site-packages\\scipy\\integrate\\odepack.py:247: ODEintWarning: Excess work done on this call (perhaps wrong Dfun type). Run with full_output = 1 to get quantitative information.\n",
      "  warnings.warn(warning_msg, ODEintWarning)\n",
      "<ipython-input-27-3cfdf291b9c0>:14: RuntimeWarning: overflow encountered in double_scalars\n",
      "  dS_dt = -beta*S*I/N0\n",
      "<ipython-input-27-3cfdf291b9c0>:15: RuntimeWarning: overflow encountered in double_scalars\n",
      "  dI_dt = beta*S*I/N0-gamma*I\n",
      "<ipython-input-27-3cfdf291b9c0>:16: RuntimeWarning: overflow encountered in double_scalars\n",
      "  dR_dt = gamma*I\n",
      "C:\\Users\\RAMEEZ KHAN\\anaconda3\\lib\\site-packages\\scipy\\integrate\\odepack.py:247: ODEintWarning: Illegal input detected (internal error). Run with full_output = 1 to get quantitative information.\n",
      "  warnings.warn(warning_msg, ODEintWarning)\n"
     ]
    }
   ],
   "source": [
    "popt_India, pcov_India = optimize.curve_fit(fit_odeint, t_India, ydata_India)\n",
    "perr_India = np.sqrt(np.diag(pcov_India))"
   ]
  },
  {
   "cell_type": "code",
   "execution_count": 40,
   "metadata": {},
   "outputs": [
    {
     "name": "stdout",
     "output_type": "stream",
     "text": [
      "standard deviation error:  [1.44639935e-03 2.01151881e-05] start infect: 62.0\n",
      "Optimal parameters: beta =  0.06772411752227259 and gamma =  -0.0025308488986080747\n"
     ]
    }
   ],
   "source": [
    "print('standard deviation error: ', str(perr_India), 'start infect:', ydata_India[0])\n",
    "print('Optimal parameters: beta = ', popt_India[0], 'and gamma = ', popt_India[1])"
   ]
  },
  {
   "cell_type": "code",
   "execution_count": 41,
   "metadata": {},
   "outputs": [],
   "source": [
    "fitted_India = fit_odeint(t_India, *popt_India)"
   ]
  },
  {
   "cell_type": "code",
   "execution_count": 42,
   "metadata": {},
   "outputs": [
    {
     "data": {
      "image/png": "[encoded data removed]",
      "text/plain": [
       "<Figure size 1152x648 with 1 Axes>"
      ]
     },
     "metadata": {},
     "output_type": "display_data"
    },
    {
     "name": "stdout",
     "output_type": "stream",
     "text": [
      "Optimal parameters: beta =  0.06772411752227259 and gamma =  -0.0025308488986080747\n",
      "Basic Reproduction Number R0:  -26.759447219278773\n"
     ]
    }
   ],
   "source": [
    "plt.semilogy(t_India, ydata_India, 'o',color='b')\n",
    "plt.semilogy(t_India, fitted_India, color='b')\n",
    "plt.title('Fit of SIR model for India cases')\n",
    "plt.ylabel('Population infected')\n",
    "plt.xlabel('Days')\n",
    "plt.show()\n",
    "print('Optimal parameters: beta = ', popt_India[0], 'and gamma = ', popt_India[1])\n",
    "print('Basic Reproduction Number R0: ',popt_India[0]/popt_India[1] )"
   ]
  },
  {
   "cell_type": "markdown",
   "metadata": {},
   "source": [
    "### Fitting the parameters of SIR model for Spain"
   ]
  },
  {
   "cell_type": "code",
   "execution_count": 43,
   "metadata": {},
   "outputs": [],
   "source": [
    "ydata_Spain = np.array(df_processed.Spain_infected[60:])\n",
    "t_Spain=np.arange(len(ydata_Spain))"
   ]
  },
  {
   "cell_type": "code",
   "execution_count": 44,
   "metadata": {},
   "outputs": [],
   "source": [
    "# Parameters\n",
    "\n",
    "#N0 = country_population_list[1] # Population size\n",
    "N0 = 1000000\n",
    "beta = 0.4\n",
    "gamma = 0.1  # 1(gamma) Person can infect 4(beta) people\n",
    "\n",
    "I0 = ydata_Spain[0]   # Initial infected size\n",
    "#S0 = N0-I0  # Population prone to infection\n",
    "S0 = N0-I0\n",
    "R0 = 0  # Initial recovered size"
   ]
  },
  {
   "cell_type": "code",
   "execution_count": 45,
   "metadata": {},
   "outputs": [
    {
     "data": {
      "text/plain": [
       "84.0"
      ]
     },
     "execution_count": 45,
     "metadata": {},
     "output_type": "execute_result"
    }
   ],
   "source": [
    "I0"
   ]
  },
  {
   "cell_type": "code",
   "execution_count": 46,
   "metadata": {},
   "outputs": [],
   "source": [
    "def fit_odeint(x, beta, gamma):\n",
    "    return integrate.odeint(SIR_model, (S0, I0, R0), t_Spain, args=(beta, gamma))[:,1] # we only would like to get dI"
   ]
  },
  {
   "cell_type": "code",
   "execution_count": 47,
   "metadata": {},
   "outputs": [
    {
     "data": {
      "text/plain": [
       "array([ 8.40000000e+01,  1.13383486e+02,  1.53042619e+02,  2.06568578e+02,\n",
       "        2.78805714e+02,  3.76287308e+02,  5.07821566e+02,  6.85278620e+02,\n",
       "        9.24645570e+02,  1.24743737e+03,  1.68257731e+03,  2.26889178e+03,\n",
       "        3.05839934e+03,  4.12060889e+03,  5.54806800e+03,  7.46340059e+03,\n",
       "        1.00280082e+04,  1.34524200e+04,  1.80078611e+04,  2.40378155e+04,\n",
       "        3.19669957e+04,  4.23030097e+04,  5.56231394e+04,  7.25355687e+04,\n",
       "        9.36028098e+04,  1.19218330e+05,  1.49440062e+05,  1.83809318e+05,\n",
       "        2.21215257e+05,  2.59884352e+05,  2.97554398e+05,  3.31822770e+05,\n",
       "        3.60569855e+05,  3.82311938e+05,  3.96371532e+05,  4.02842582e+05,\n",
       "        4.02410066e+05,  3.96114894e+05,  3.85138187e+05,  3.70642503e+05,\n",
       "        3.53675978e+05,  3.35127918e+05,  3.15719378e+05,  2.96013953e+05,\n",
       "        2.76438074e+05,  2.57304132e+05,  2.38832734e+05,  2.21172377e+05,\n",
       "        2.04415987e+05,  1.88614386e+05,  1.73786999e+05,  1.59930261e+05,\n",
       "        1.47024112e+05,  1.35036995e+05,  1.23929645e+05,  1.13657960e+05,\n",
       "        1.04175139e+05,  9.54332739e+04,  8.73845059e+04,  7.99818618e+04,\n",
       "        7.31798379e+04,  6.69347959e+04,  6.12052165e+04,  5.59518455e+04,\n",
       "        5.11377605e+04,  4.67283785e+04,  4.26914211e+04,  3.89968497e+04,\n",
       "        3.56167793e+04,  3.25253790e+04,  2.96987643e+04,  2.71148848e+04,\n",
       "        2.47534114e+04,  2.25956234e+04,  2.06242996e+04,  1.88236127e+04,\n",
       "        1.71790274e+04,  1.56772050e+04,  1.43059123e+04,  1.30539362e+04,\n",
       "        1.19110039e+04,  1.08677076e+04,  9.91543607e+03,  9.04630898e+03,\n",
       "        8.25311777e+03,  7.52927003e+03,  6.86873842e+03,  6.26601349e+03,\n",
       "        5.71606022e+03,  5.21427806e+03,  4.75646411e+03,  4.33877938e+03,\n",
       "        3.95771771e+03,  3.61007738e+03,  3.29293496e+03,  3.00362139e+03,\n",
       "        2.73970012e+03,  2.49894701e+03,  2.27933198e+03,  2.07900219e+03,\n",
       "        1.89626669e+03,  1.72958237e+03,  1.57754110e+03,  1.43885797e+03,\n",
       "        1.31236057e+03,  1.19697919e+03,  1.09173785e+03,  9.95746120e+02,\n",
       "        9.08191639e+02,  8.28333298e+02,  7.55494998e+02,  6.89059973e+02,\n",
       "        6.28465583e+02,  5.73198581e+02,  5.22790783e+02,  4.76815116e+02,\n",
       "        4.34882017e+02,  3.96636140e+02,  3.61753356e+02,  3.29938014e+02,\n",
       "        3.00920439e+02,  2.74454656e+02,  2.50316304e+02,  2.28300746e+02,\n",
       "        2.08221325e+02,  1.89907797e+02,  1.73204879e+02,  1.57970943e+02,\n",
       "        1.44076809e+02,  1.31404655e+02,  1.19847021e+02,  1.09305890e+02,\n",
       "        9.96918694e+01,  9.09234229e+01,  8.29261852e+01,  7.56323309e+01,\n",
       "        6.89799979e+01,  6.29127652e+01,  5.73791730e+01,  5.23322872e+01,\n",
       "        4.77293012e+01,  4.35311729e+01,  3.97022941e+01,  3.62101881e+01,\n",
       "        3.30252345e+01,  3.01204179e+01,  2.74710990e+01,  2.50548057e+01,\n",
       "        2.28510419e+01,  2.08411148e+01,  1.90079751e+01,  1.73360734e+01,\n",
       "        1.58112278e+01,  1.44205038e+01,  1.31521045e+01,  1.19952706e+01,\n",
       "        1.09401892e+01,  9.97791040e+00,  9.10027158e+00,  8.29982805e+00,\n",
       "        7.56978987e+00,  6.90396442e+00,  6.29670364e+00,  5.74285637e+00,\n",
       "        5.23772446e+00,  4.77702302e+00,  4.35684404e+00,  3.97362323e+00,\n",
       "        3.62410987e+00,  3.30533907e+00,  3.01460681e+00,  2.74944686e+00,\n",
       "        2.50760993e+00,  2.28704457e+00,  2.08587976e+00,  1.90240909e+00,\n",
       "        1.73507619e+00,  1.58246162e+00,  1.44327078e+00,  1.31632294e+00,\n",
       "        1.20054124e+00,  1.09494350e+00,  9.98633974e-01,  9.10795680e-01,\n",
       "        8.30683504e-01,  7.57617869e-01,  6.90978972e-01,  6.30201529e-01,\n",
       "        5.74769973e-01,  5.24214092e-01,  4.78105027e-01,  4.36051644e-01,\n",
       "        3.97697211e-01,  3.62716375e-01,  3.30812399e-01,  3.01714647e-01,\n",
       "        2.75176289e-01,  2.50972204e-01,  2.28897073e-01,  2.08763637e-01,\n",
       "        1.90401107e-01,  1.73653719e-01,  1.58379403e-01,  1.44448593e-01,\n",
       "        1.31743115e-01,  1.20155193e-01,  1.09586526e-01,  9.99474629e-02,\n",
       "        9.11562364e-02,  8.31382733e-02,  7.58255576e-02,  6.91560578e-02,\n",
       "        6.30731963e-02,  5.75253744e-02,  5.24655302e-02,  4.78507424e-02,\n",
       "        4.36418646e-02,  3.98031939e-02,  3.63021656e-02,  3.31090828e-02,\n",
       "        3.01968582e-02,  2.75407891e-02,  2.51183433e-02,  2.29089725e-02,\n",
       "        2.08939343e-02,  1.90561357e-02,  1.73799871e-02,  1.58512701e-02,\n",
       "        1.44570168e-02,  1.31853996e-02,  1.20256321e-02,  1.09678758e-02,\n",
       "        1.00031583e-02,  9.12329574e-03,  8.32082472e-03,  7.58893765e-03,\n",
       "        6.92142631e-03,  6.31262821e-03,  5.75737911e-03,  5.25096889e-03,\n",
       "        4.78910168e-03,  4.36785965e-03,  3.98366935e-03,  3.63327193e-03,\n",
       "        3.31369486e-03,  3.02222737e-03,  2.75639685e-03,  2.51394841e-03,\n",
       "        2.29282533e-03,  2.09115194e-03,  1.90721742e-03,  1.73946167e-03,\n",
       "        1.58646160e-03,  1.44691885e-03,  1.31965003e-03,  1.20357553e-03,\n",
       "        1.09771056e-03,  1.00115709e-03,  9.13096693e-04,  8.32781884e-04,\n",
       "        7.59531408e-04,  6.92724223e-04,  6.31793049e-04,  5.76221436e-04,\n",
       "        5.25537828e-04,  4.79312134e-04,  4.37152612e-04,  3.98701269e-04,\n",
       "        3.63632058e-04,  3.31647546e-04,  3.02476221e-04,  2.75870871e-04,\n",
       "        2.51605653e-04,  2.29474731e-04,  2.09290498e-04,  1.90881583e-04,\n",
       "        1.74091910e-04,  1.58778898e-04,  1.44812614e-04,  1.32074997e-04,\n",
       "        1.20458099e-04,  1.09863203e-04,  1.00200098e-04,  9.13869235e-05,\n",
       "        8.33491841e-05,  7.60181701e-05,  6.93316779e-05,  6.32335040e-05,\n",
       "        5.76716379e-05,  5.25988439e-05,  4.79724693e-05,  4.37529992e-05,\n",
       "        3.99044897e-05,  3.63946462e-05,  3.31935120e-05,  3.02738704e-05,\n",
       "        2.76113630e-05,  2.51832196e-05,  2.29683002e-05,  2.09478862e-05,\n",
       "        1.91053205e-05,  1.74248714e-05,  1.58919950e-05,  1.44939218e-05,\n",
       "        1.32189834e-05,  1.20562604e-05,  1.09956735e-05,  1.00284582e-05,\n",
       "        9.14644509e-06,  8.34200201e-06,  7.60813573e-06,  6.93885508e-06,\n",
       "        6.32849450e-06,  5.77180109e-06,  5.26391686e-06,  4.80094766e-06,\n",
       "        4.37868114e-06,  3.99352005e-06,  3.64226402e-06,  3.32200695e-06,\n",
       "        3.02995140e-06,  2.76352137e-06,  2.52036360e-06,  2.29840540e-06,\n",
       "        2.09580657e-06,  1.91093720e-06,  1.74239803e-06,  1.58898755e-06,\n",
       "        1.44914715e-06,  1.32156467e-06,  1.20521157e-06,  1.09920742e-06,\n",
       "        1.00277437e-06,  9.14857633e-07,  8.34625208e-07,  7.61401283e-07,\n",
       "        6.94601174e-07,  6.32723982e-07,  5.77737311e-07,  5.27184637e-07,\n",
       "        4.80866507e-07,  4.38583469e-07,  4.00086991e-07,  3.64991457e-07,\n",
       "        3.33020235e-07,  3.03906860e-07,  2.77384868e-07,  2.53187794e-07,\n",
       "        2.31096722e-07,  2.11011192e-07,  1.92732442e-07,  1.76053996e-07,\n",
       "        1.60769378e-07,  1.46672112e-07,  1.33644135e-07,  1.21763401e-07,\n",
       "        1.10937875e-07,  1.01064433e-07,  9.20399525e-08,  8.37613123e-08,\n",
       "        7.47494115e-08,  6.85193579e-08,  6.26793597e-08,  5.72294167e-08,\n",
       "        5.21695291e-08,  4.74996968e-08,  4.32023028e-08,  3.92385037e-08,\n",
       "        3.56069044e-08,  3.23075050e-08,  2.93403053e-08,  2.67053054e-08,\n",
       "        2.43799269e-08,  2.22460930e-08,  2.02867637e-08,  1.85019391e-08,\n",
       "        1.68916191e-08,  1.54558038e-08,  1.41905956e-08,  1.30305073e-08,\n",
       "        1.19521443e-08,  1.09555068e-08,  1.00405947e-08,  9.20740804e-09,\n",
       "        8.45591121e-09,  7.76668714e-09,  7.12340353e-09,  6.52606038e-09,\n",
       "        5.97465769e-09,  5.46919546e-09,  5.00967368e-09,  4.59063972e-09,\n",
       "        4.20082173e-09,  3.83987604e-09,  3.50780267e-09,  3.20460160e-09,\n",
       "        2.93027285e-09,  2.68302170e-09,  2.45411307e-09,  2.24238440e-09,\n",
       "        2.04783568e-09,  1.87046692e-09,  1.71027812e-09,  1.56690880e-09,\n",
       "        1.43496497e-09,  1.31264058e-09,  1.19993562e-09,  1.09685011e-09,\n",
       "        1.00338404e-09,  9.19528885e-10,  8.42921114e-10,  7.71708417e-10,\n",
       "        7.05890795e-10,  6.45468246e-10,  5.90440772e-10,  5.40808372e-10,\n",
       "        4.67047774e-10,  3.90224500e-10,  3.16705324e-10,  2.46490248e-10,\n",
       "        1.79579270e-10,  1.15972390e-10,  5.56696100e-11, -1.32907156e-12,\n",
       "       -5.50236544e-11, -1.05414138e-10, -1.52500524e-10, -1.96282810e-10,\n",
       "       -2.36760998e-10, -2.73935087e-10, -3.07805077e-10, -3.38370968e-10,\n",
       "       -3.65632761e-10, -3.89590454e-10, -4.10244049e-10, -4.27593546e-10,\n",
       "       -4.41638943e-10, -4.52380242e-10, -4.59817441e-10, -4.63950542e-10,\n",
       "       -4.64779545e-10, -4.62304448e-10, -4.56525253e-10, -4.47441959e-10,\n",
       "       -4.35054566e-10, -4.19363074e-10, -4.00367484e-10, -3.78067794e-10,\n",
       "       -3.52464006e-10, -3.28755184e-10, -3.39081004e-10, -3.48537312e-10,\n",
       "       -3.57124110e-10, -3.64841396e-10, -3.71689172e-10, -3.77667436e-10,\n",
       "       -3.82776190e-10, -3.87015433e-10, -3.90385164e-10, -3.92885385e-10,\n",
       "       -3.94516095e-10, -3.95277293e-10, -3.95168981e-10, -3.94191158e-10,\n",
       "       -3.92343824e-10, -3.89626978e-10, -3.86040622e-10, -3.81584755e-10,\n",
       "       -3.76259377e-10, -3.70064488e-10, -3.63000088e-10, -3.55066177e-10,\n",
       "       -3.46262755e-10, -3.36589822e-10, -3.26047378e-10, -3.14635423e-10,\n",
       "       -3.02353957e-10, -2.89202980e-10, -2.75182492e-10, -2.60292493e-10,\n",
       "       -2.44532983e-10, -2.27903962e-10, -2.10405430e-10, -2.08792797e-10,\n",
       "       -2.04060304e-10, -1.99327812e-10, -1.94595320e-10, -1.89862828e-10,\n",
       "       -1.85130335e-10, -1.80397843e-10, -1.75665351e-10, -1.70932859e-10,\n",
       "       -1.66200366e-10, -1.61467874e-10, -1.56735382e-10, -1.52002890e-10,\n",
       "       -1.47270397e-10, -1.42537905e-10, -1.37805413e-10, -1.33072920e-10,\n",
       "       -1.28340428e-10, -1.23607936e-10, -1.18875444e-10, -1.14142951e-10,\n",
       "       -1.09410459e-10, -1.04677967e-10, -9.99454747e-11, -9.52129824e-11,\n",
       "       -9.04804901e-11, -8.57479979e-11, -8.10155056e-11, -7.62830134e-11,\n",
       "       -7.15505211e-11, -6.68180289e-11, -6.20855366e-11, -5.73530443e-11,\n",
       "       -5.26205521e-11, -5.12914398e-11, -5.11436424e-11, -5.09958449e-11,\n",
       "       -5.08480475e-11, -5.07002500e-11, -5.05524526e-11, -5.04046552e-11,\n",
       "       -5.02568577e-11, -5.01090603e-11, -4.99612628e-11, -4.98134654e-11,\n",
       "       -4.96656679e-11, -4.95178705e-11, -4.93700730e-11, -4.92222756e-11,\n",
       "       -4.90744781e-11, -4.89266807e-11, -4.87788833e-11, -4.86310858e-11,\n",
       "       -4.84832884e-11, -4.83354909e-11, -4.81876935e-11, -4.80398960e-11,\n",
       "       -4.78920986e-11, -4.77443011e-11, -4.75965037e-11, -4.74487062e-11,\n",
       "       -4.73009088e-11, -4.71531114e-11, -4.70053139e-11, -4.68575165e-11,\n",
       "       -4.67097190e-11, -4.65619216e-11, -4.64141241e-11, -4.62663267e-11,\n",
       "       -4.61185292e-11, -4.59707318e-11, -4.58229343e-11, -4.56751369e-11,\n",
       "       -4.55273395e-11, -4.53795420e-11, -4.52317446e-11, -4.50839471e-11,\n",
       "       -4.49361497e-11, -4.47883522e-11, -4.46405548e-11, -4.44927573e-11,\n",
       "       -4.43449599e-11, -4.41971624e-11, -4.40493650e-11, -4.39015676e-11,\n",
       "       -4.37537701e-11, -4.36059727e-11, -4.34581752e-11, -4.33103778e-11,\n",
       "       -4.31625803e-11, -4.30147829e-11, -4.28669854e-11, -4.27191880e-11,\n",
       "       -4.25713905e-11, -4.24235931e-11, -4.22757957e-11, -4.21279982e-11,\n",
       "       -4.19802008e-11, -4.18324033e-11, -4.16846059e-11, -4.15368084e-11,\n",
       "       -4.13890110e-11, -4.12412135e-11, -4.10934161e-11, -4.09456186e-11,\n",
       "       -4.07978212e-11, -4.06500238e-11, -4.05022263e-11, -4.03544289e-11,\n",
       "       -4.02066314e-11, -4.00588340e-11, -3.99110365e-11, -3.97632391e-11,\n",
       "       -3.96154416e-11, -3.94676442e-11, -3.93198467e-11, -3.91720493e-11,\n",
       "       -3.90242519e-11, -3.88764544e-11, -3.87286570e-11, -3.85808595e-11,\n",
       "       -3.84330621e-11, -3.82852646e-11, -3.81374672e-11, -3.79896697e-11,\n",
       "       -3.78418723e-11, -3.76940748e-11, -3.75462774e-11, -3.73984800e-11,\n",
       "       -3.72506825e-11, -3.71028851e-11, -3.69550876e-11, -3.68072902e-11,\n",
       "       -3.66594927e-11, -3.65116953e-11, -3.63638978e-11, -3.62161004e-11,\n",
       "       -3.60683029e-11, -3.59205055e-11, -3.57727081e-11, -3.56249106e-11,\n",
       "       -3.54771132e-11, -3.53293157e-11, -3.51815183e-11, -3.50337208e-11,\n",
       "       -3.48859234e-11, -3.47381259e-11, -3.45903285e-11, -3.44425310e-11,\n",
       "       -3.42947336e-11, -3.41469362e-11, -3.39991387e-11, -3.38513413e-11,\n",
       "       -3.37035438e-11, -3.35557464e-11, -3.34079489e-11, -3.32601515e-11,\n",
       "       -3.31123540e-11, -3.29645566e-11, -3.28167591e-11, -3.26689617e-11,\n",
       "       -3.25211643e-11, -3.23733668e-11, -3.22255694e-11, -3.20777719e-11,\n",
       "       -3.19299745e-11, -3.17821770e-11, -3.16343796e-11, -3.14865821e-11,\n",
       "       -3.13387847e-11, -3.11909872e-11, -3.10431898e-11, -3.08953924e-11,\n",
       "       -3.07475949e-11, -3.05997975e-11, -3.04520000e-11, -3.03042026e-11,\n",
       "       -3.01564051e-11, -3.00086077e-11, -2.98608102e-11, -2.97130128e-11,\n",
       "       -2.95652153e-11, -2.94174179e-11, -2.92696205e-11, -2.91218230e-11,\n",
       "       -2.89740256e-11, -2.88262281e-11, -2.86784307e-11, -2.85306332e-11,\n",
       "       -2.83828358e-11, -2.82350383e-11, -2.80872409e-11, -2.79394434e-11,\n",
       "       -2.77916460e-11, -2.76438486e-11, -2.74960511e-11, -2.73482537e-11,\n",
       "       -2.72004562e-11, -2.70526588e-11, -2.69048613e-11, -2.67570639e-11,\n",
       "       -2.66092664e-11, -2.64614690e-11, -2.63136715e-11, -2.61658741e-11,\n",
       "       -2.60180767e-11, -2.58702792e-11, -2.57224818e-11, -2.55746843e-11,\n",
       "       -2.54268869e-11, -2.52790894e-11, -2.51312920e-11, -2.49834945e-11,\n",
       "       -2.48356971e-11, -2.46878996e-11, -2.45401022e-11, -2.43923048e-11,\n",
       "       -2.42445073e-11, -2.40967099e-11, -2.39489124e-11, -2.38011150e-11,\n",
       "       -2.36533175e-11, -2.35055201e-11, -2.33577226e-11, -2.32099252e-11,\n",
       "       -2.30621277e-11, -2.29143303e-11, -2.27665329e-11, -2.26187354e-11,\n",
       "       -2.24709380e-11, -2.23231405e-11, -2.21753431e-11, -2.20275456e-11,\n",
       "       -2.18797482e-11, -2.17319507e-11, -2.15841533e-11, -2.14363558e-11,\n",
       "       -2.12885584e-11, -2.11407610e-11, -2.09929635e-11, -2.08451661e-11,\n",
       "       -2.06973686e-11, -2.05495712e-11, -2.04017737e-11, -2.02539763e-11,\n",
       "       -2.01061788e-11, -1.99583814e-11, -1.98105839e-11, -1.96627865e-11,\n",
       "       -1.95149891e-11, -1.93671916e-11, -1.92193942e-11, -1.90715967e-11,\n",
       "       -1.89237993e-11, -1.87760018e-11, -1.86282044e-11, -1.84804069e-11,\n",
       "       -1.83326095e-11, -1.81848120e-11, -1.80370146e-11, -1.78892172e-11,\n",
       "       -1.77414197e-11, -1.75936223e-11, -1.74458248e-11, -1.72980274e-11,\n",
       "       -1.71502299e-11, -1.70024325e-11, -1.68546350e-11, -1.67068376e-11,\n",
       "       -1.65590401e-11, -1.64112427e-11, -1.62634453e-11, -1.61156478e-11,\n",
       "       -1.59678504e-11, -1.58200529e-11, -1.56722555e-11, -1.55244580e-11,\n",
       "       -1.53766606e-11, -1.52288631e-11, -1.50810657e-11, -1.49332682e-11,\n",
       "       -1.47854708e-11, -1.46376734e-11, -1.44898759e-11, -1.43420785e-11,\n",
       "       -1.41942810e-11, -1.40464836e-11, -1.38986861e-11, -1.37508887e-11,\n",
       "       -1.36030912e-11, -1.34552938e-11, -1.33074963e-11, -1.31596989e-11,\n",
       "       -1.30119015e-11, -1.28641040e-11, -1.27163066e-11, -1.25685091e-11,\n",
       "       -1.24207117e-11, -1.22729142e-11, -1.21251168e-11, -1.19773193e-11,\n",
       "       -1.18295219e-11, -1.16817244e-11, -1.15339270e-11, -1.13861296e-11,\n",
       "       -1.12383321e-11, -1.10905347e-11, -1.09427372e-11, -1.07949398e-11,\n",
       "       -1.06471423e-11, -1.04993449e-11, -1.03515474e-11, -1.02037500e-11,\n",
       "       -1.00559525e-11, -9.90815510e-12, -9.76035765e-12, -9.61256021e-12,\n",
       "       -9.46476276e-12, -9.31696532e-12, -9.16916787e-12, -9.02137043e-12,\n",
       "       -8.87357298e-12, -8.72577553e-12, -8.57797809e-12, -8.43018064e-12,\n",
       "       -8.28238320e-12, -8.13458575e-12, -7.98678831e-12, -7.83899086e-12,\n",
       "       -7.69119342e-12, -7.54339597e-12, -7.39559853e-12, -7.24780108e-12,\n",
       "       -7.10000363e-12, -6.95220619e-12, -6.80440874e-12, -6.65661130e-12,\n",
       "       -6.50881385e-12, -6.36101641e-12, -6.21321896e-12, -6.06542152e-12,\n",
       "       -5.91762407e-12, -5.76982663e-12, -5.62202918e-12, -5.47423173e-12,\n",
       "       -5.32643429e-12, -5.17863684e-12, -5.03083940e-12, -4.88304195e-12,\n",
       "       -4.73524451e-12, -4.58744706e-12, -4.43964962e-12, -4.29185217e-12,\n",
       "       -4.14405473e-12, -3.99625728e-12, -3.84845983e-12, -3.70066239e-12,\n",
       "       -3.55286494e-12, -3.40506750e-12, -3.25727005e-12, -3.10947261e-12,\n",
       "       -2.96167516e-12, -2.81387772e-12, -2.66608027e-12])"
      ]
     },
     "execution_count": 47,
     "metadata": {},
     "output_type": "execute_result"
    }
   ],
   "source": [
    "popt=[0.4, 0.1]\n",
    "fit_odeint(t_Spain, *popt)"
   ]
  },
  {
   "cell_type": "code",
   "execution_count": 48,
   "metadata": {},
   "outputs": [
    {
     "name": "stderr",
     "output_type": "stream",
     "text": [
      "C:\\Users\\RAMEEZ KHAN\\anaconda3\\lib\\site-packages\\scipy\\integrate\\odepack.py:247: ODEintWarning: Excess work done on this call (perhaps wrong Dfun type). Run with full_output = 1 to get quantitative information.\n",
      "  warnings.warn(warning_msg, ODEintWarning)\n",
      "<ipython-input-27-3cfdf291b9c0>:14: RuntimeWarning: overflow encountered in double_scalars\n",
      "  dS_dt = -beta*S*I/N0\n",
      "<ipython-input-27-3cfdf291b9c0>:15: RuntimeWarning: overflow encountered in double_scalars\n",
      "  dI_dt = beta*S*I/N0-gamma*I\n",
      "C:\\Users\\RAMEEZ KHAN\\anaconda3\\lib\\site-packages\\scipy\\integrate\\odepack.py:247: ODEintWarning: Illegal input detected (internal error). Run with full_output = 1 to get quantitative information.\n",
      "  warnings.warn(warning_msg, ODEintWarning)\n"
     ]
    }
   ],
   "source": [
    "popt_Spain, pcov_Spain = optimize.curve_fit(fit_odeint, t_Spain, ydata_Spain)\n",
    "perr_Spain = np.sqrt(np.diag(pcov_Spain))"
   ]
  },
  {
   "cell_type": "code",
   "execution_count": 49,
   "metadata": {},
   "outputs": [
    {
     "name": "stdout",
     "output_type": "stream",
     "text": [
      "standard deviation error:  [1.99163796e-03 2.65322547e-05] start infect: 84.0\n",
      "Optimal parameters: beta =  0.06292317164468945 and gamma =  -0.003784970335747199\n"
     ]
    }
   ],
   "source": [
    "print('standard deviation error: ', str(perr_Spain), 'start infect:', ydata_Spain[0])\n",
    "print('Optimal parameters: beta = ', popt_Spain[0], 'and gamma = ', popt_Spain[1])"
   ]
  },
  {
   "cell_type": "code",
   "execution_count": 50,
   "metadata": {},
   "outputs": [],
   "source": [
    "fitted_Spain = fit_odeint(t_Spain, *popt_Spain)"
   ]
  },
  {
   "cell_type": "code",
   "execution_count": 51,
   "metadata": {},
   "outputs": [
    {
     "data": {
      "image/png": "[encoded data removed]",
      "text/plain": [
       "<Figure size 1152x648 with 1 Axes>"
      ]
     },
     "metadata": {},
     "output_type": "display_data"
    },
    {
     "name": "stdout",
     "output_type": "stream",
     "text": [
      "Optimal parameters: beta =  0.06292317164468945 and gamma =  -0.003784970335747199\n",
      "Basic Reproduction Number R0:  -16.624482112953643\n"
     ]
    }
   ],
   "source": [
    "plt.semilogy(t_Spain, ydata_Spain, 'o',color='b')\n",
    "plt.semilogy(t_Spain, fitted_Spain, color='b')\n",
    "plt.title('Fit of SIR model for Spain cases')\n",
    "plt.ylabel('Population infected')\n",
    "plt.xlabel('Days')\n",
    "plt.show()\n",
    "print('Optimal parameters: beta = ', popt_Spain[0], 'and gamma = ', popt_Spain[1])\n",
    "print('Basic Reproduction Number R0: ',popt_Spain[0]/popt_Spain[1] )"
   ]
  },
  {
   "cell_type": "markdown",
   "metadata": {},
   "source": [
    "# Combined SIR-DataFrame"
   ]
  },
  {
   "cell_type": "code",
   "execution_count": 52,
   "metadata": {},
   "outputs": [],
   "source": [
    "SIR=pd.DataFrame(t_Germany)"
   ]
  },
  {
   "cell_type": "code",
   "execution_count": 53,
   "metadata": {},
   "outputs": [],
   "source": [
    "SIR.rename(columns={0:'date'}, inplace=True)"
   ]
  },
  {
   "cell_type": "code",
   "execution_count": 54,
   "metadata": {},
   "outputs": [],
   "source": [
    "SIR['Germany_infected'], SIR['Germany_infected_fitted'] =pd.DataFrame(ydata_Germany), pd.DataFrame(fitted_Germany)"
   ]
  },
  {
   "cell_type": "code",
   "execution_count": 55,
   "metadata": {},
   "outputs": [
    {
     "data": {
      "text/html": [
       "<div>\n",
       "<style scoped>\n",
       "    .dataframe tbody tr th:only-of-type {\n",
       "        vertical-align: middle;\n",
       "    }\n",
       "\n",
       "    .dataframe tbody tr th {\n",
       "        vertical-align: top;\n",
       "    }\n",
       "\n",
       "    .dataframe thead th {\n",
       "        text-align: right;\n",
       "    }\n",
       "</style>\n",
       "<table border=\"1\" class=\"dataframe\">\n",
       "  <thead>\n",
       "    <tr style=\"text-align: right;\">\n",
       "      <th></th>\n",
       "      <th>date</th>\n",
       "      <th>Germany_infected</th>\n",
       "      <th>Germany_infected_fitted</th>\n",
       "    </tr>\n",
       "  </thead>\n",
       "  <tbody>\n",
       "    <tr>\n",
       "      <th>0</th>\n",
       "      <td>0</td>\n",
       "      <td>117</td>\n",
       "      <td>117.000000</td>\n",
       "    </tr>\n",
       "    <tr>\n",
       "      <th>1</th>\n",
       "      <td>1</td>\n",
       "      <td>150</td>\n",
       "      <td>121.672876</td>\n",
       "    </tr>\n",
       "    <tr>\n",
       "      <th>2</th>\n",
       "      <td>2</td>\n",
       "      <td>188</td>\n",
       "      <td>126.532364</td>\n",
       "    </tr>\n",
       "    <tr>\n",
       "      <th>3</th>\n",
       "      <td>3</td>\n",
       "      <td>240</td>\n",
       "      <td>131.585917</td>\n",
       "    </tr>\n",
       "    <tr>\n",
       "      <th>4</th>\n",
       "      <td>4</td>\n",
       "      <td>349</td>\n",
       "      <td>136.841281</td>\n",
       "    </tr>\n",
       "  </tbody>\n",
       "</table>\n",
       "</div>"
      ],
      "text/plain": [
       "   date  Germany_infected  Germany_infected_fitted\n",
       "0     0               117               117.000000\n",
       "1     1               150               121.672876\n",
       "2     2               188               126.532364\n",
       "3     3               240               131.585917\n",
       "4     4               349               136.841281"
      ]
     },
     "execution_count": 55,
     "metadata": {},
     "output_type": "execute_result"
    }
   ],
   "source": [
    "SIR.head()"
   ]
  },
  {
   "cell_type": "code",
   "execution_count": 56,
   "metadata": {},
   "outputs": [],
   "source": [
    "SIR['India_infected'], SIR['India_infected_fitted'] =pd.DataFrame(ydata_India), pd.DataFrame(fitted_India)\n"
   ]
  },
  {
   "cell_type": "code",
   "execution_count": 57,
   "metadata": {},
   "outputs": [
    {
     "data": {
      "text/html": [
       "<div>\n",
       "<style scoped>\n",
       "    .dataframe tbody tr th:only-of-type {\n",
       "        vertical-align: middle;\n",
       "    }\n",
       "\n",
       "    .dataframe tbody tr th {\n",
       "        vertical-align: top;\n",
       "    }\n",
       "\n",
       "    .dataframe thead th {\n",
       "        text-align: right;\n",
       "    }\n",
       "</style>\n",
       "<table border=\"1\" class=\"dataframe\">\n",
       "  <thead>\n",
       "    <tr style=\"text-align: right;\">\n",
       "      <th></th>\n",
       "      <th>date</th>\n",
       "      <th>Germany_infected</th>\n",
       "      <th>Germany_infected_fitted</th>\n",
       "      <th>India_infected</th>\n",
       "      <th>India_infected_fitted</th>\n",
       "    </tr>\n",
       "  </thead>\n",
       "  <tbody>\n",
       "    <tr>\n",
       "      <th>842</th>\n",
       "      <td>842</td>\n",
       "      <td>27454225</td>\n",
       "      <td>2.806961e+07</td>\n",
       "      <td>NaN</td>\n",
       "      <td>NaN</td>\n",
       "    </tr>\n",
       "    <tr>\n",
       "      <th>843</th>\n",
       "      <td>843</td>\n",
       "      <td>27573585</td>\n",
       "      <td>2.822217e+07</td>\n",
       "      <td>NaN</td>\n",
       "      <td>NaN</td>\n",
       "    </tr>\n",
       "    <tr>\n",
       "      <th>844</th>\n",
       "      <td>844</td>\n",
       "      <td>27681775</td>\n",
       "      <td>2.837556e+07</td>\n",
       "      <td>NaN</td>\n",
       "      <td>NaN</td>\n",
       "    </tr>\n",
       "    <tr>\n",
       "      <th>845</th>\n",
       "      <td>845</td>\n",
       "      <td>27771111</td>\n",
       "      <td>2.852979e+07</td>\n",
       "      <td>NaN</td>\n",
       "      <td>NaN</td>\n",
       "    </tr>\n",
       "    <tr>\n",
       "      <th>846</th>\n",
       "      <td>846</td>\n",
       "      <td>27771112</td>\n",
       "      <td>2.868485e+07</td>\n",
       "      <td>NaN</td>\n",
       "      <td>NaN</td>\n",
       "    </tr>\n",
       "  </tbody>\n",
       "</table>\n",
       "</div>"
      ],
      "text/plain": [
       "     date  Germany_infected  Germany_infected_fitted  India_infected  \\\n",
       "842   842          27454225             2.806961e+07             NaN   \n",
       "843   843          27573585             2.822217e+07             NaN   \n",
       "844   844          27681775             2.837556e+07             NaN   \n",
       "845   845          27771111             2.852979e+07             NaN   \n",
       "846   846          27771112             2.868485e+07             NaN   \n",
       "\n",
       "     India_infected_fitted  \n",
       "842                    NaN  \n",
       "843                    NaN  \n",
       "844                    NaN  \n",
       "845                    NaN  \n",
       "846                    NaN  "
      ]
     },
     "execution_count": 57,
     "metadata": {},
     "output_type": "execute_result"
    }
   ],
   "source": [
    "SIR.tail()"
   ]
  },
  {
   "cell_type": "code",
   "execution_count": 58,
   "metadata": {},
   "outputs": [],
   "source": [
    "SIR['Spain_infected'], SIR['Spain_infected_fitted'] =pd.DataFrame(ydata_Spain), pd.DataFrame(fitted_Spain)"
   ]
  },
  {
   "cell_type": "code",
   "execution_count": 59,
   "metadata": {},
   "outputs": [
    {
     "data": {
      "text/html": [
       "<div>\n",
       "<style scoped>\n",
       "    .dataframe tbody tr th:only-of-type {\n",
       "        vertical-align: middle;\n",
       "    }\n",
       "\n",
       "    .dataframe tbody tr th {\n",
       "        vertical-align: top;\n",
       "    }\n",
       "\n",
       "    .dataframe thead th {\n",
       "        text-align: right;\n",
       "    }\n",
       "</style>\n",
       "<table border=\"1\" class=\"dataframe\">\n",
       "  <thead>\n",
       "    <tr style=\"text-align: right;\">\n",
       "      <th></th>\n",
       "      <th>date</th>\n",
       "      <th>Germany_infected</th>\n",
       "      <th>Germany_infected_fitted</th>\n",
       "      <th>India_infected</th>\n",
       "      <th>India_infected_fitted</th>\n",
       "      <th>Spain_infected</th>\n",
       "      <th>Spain_infected_fitted</th>\n",
       "    </tr>\n",
       "  </thead>\n",
       "  <tbody>\n",
       "    <tr>\n",
       "      <th>0</th>\n",
       "      <td>0</td>\n",
       "      <td>117</td>\n",
       "      <td>117.000000</td>\n",
       "      <td>62.0</td>\n",
       "      <td>62.000000</td>\n",
       "      <td>84.0</td>\n",
       "      <td>84.000000</td>\n",
       "    </tr>\n",
       "    <tr>\n",
       "      <th>1</th>\n",
       "      <td>1</td>\n",
       "      <td>150</td>\n",
       "      <td>121.672876</td>\n",
       "      <td>73.0</td>\n",
       "      <td>66.512434</td>\n",
       "      <td>120.0</td>\n",
       "      <td>89.794119</td>\n",
       "    </tr>\n",
       "    <tr>\n",
       "      <th>2</th>\n",
       "      <td>2</td>\n",
       "      <td>188</td>\n",
       "      <td>126.532364</td>\n",
       "      <td>82.0</td>\n",
       "      <td>71.353287</td>\n",
       "      <td>165.0</td>\n",
       "      <td>95.987869</td>\n",
       "    </tr>\n",
       "    <tr>\n",
       "      <th>3</th>\n",
       "      <td>3</td>\n",
       "      <td>240</td>\n",
       "      <td>131.585917</td>\n",
       "      <td>102.0</td>\n",
       "      <td>76.546461</td>\n",
       "      <td>222.0</td>\n",
       "      <td>102.608807</td>\n",
       "    </tr>\n",
       "    <tr>\n",
       "      <th>4</th>\n",
       "      <td>4</td>\n",
       "      <td>349</td>\n",
       "      <td>136.841281</td>\n",
       "      <td>113.0</td>\n",
       "      <td>82.117596</td>\n",
       "      <td>259.0</td>\n",
       "      <td>109.686392</td>\n",
       "    </tr>\n",
       "  </tbody>\n",
       "</table>\n",
       "</div>"
      ],
      "text/plain": [
       "   date  Germany_infected  Germany_infected_fitted  India_infected  \\\n",
       "0     0               117               117.000000            62.0   \n",
       "1     1               150               121.672876            73.0   \n",
       "2     2               188               126.532364            82.0   \n",
       "3     3               240               131.585917           102.0   \n",
       "4     4               349               136.841281           113.0   \n",
       "\n",
       "   India_infected_fitted  Spain_infected  Spain_infected_fitted  \n",
       "0              62.000000            84.0              84.000000  \n",
       "1              66.512434           120.0              89.794119  \n",
       "2              71.353287           165.0              95.987869  \n",
       "3              76.546461           222.0             102.608807  \n",
       "4              82.117596           259.0             109.686392  "
      ]
     },
     "execution_count": 59,
     "metadata": {},
     "output_type": "execute_result"
    }
   ],
   "source": [
    "SIR.head()"
   ]
  },
  {
   "cell_type": "markdown",
   "metadata": {},
   "source": [
    "# Dashboard creation"
   ]
  },
  {
   "cell_type": "code",
   "execution_count": 60,
   "metadata": {},
   "outputs": [],
   "source": [
    "# country drop-down list\n",
    "option_list = []\n",
    "for each in country_list:\n",
    "    option = {'label':each, 'value':each+'_infected'}\n",
    "    option_list.append(option)"
   ]
  },
  {
   "cell_type": "code",
   "execution_count": 61,
   "metadata": {},
   "outputs": [
    {
     "data": {
      "text/plain": [
       "[{'label': 'India', 'value': 'India_infected'},\n",
       " {'label': 'Germany', 'value': 'Germany_infected'},\n",
       " {'label': 'Spain', 'value': 'Spain_infected'}]"
      ]
     },
     "execution_count": 61,
     "metadata": {},
     "output_type": "execute_result"
    }
   ],
   "source": [
    "option_list"
   ]
  },
  {
   "cell_type": "code",
   "execution_count": 62,
   "metadata": {},
   "outputs": [
    {
     "name": "stderr",
     "output_type": "stream",
     "text": [
      "<ipython-input-62-a57e689f3421>:2: UserWarning: \n",
      "The dash_core_components package is deprecated. Please replace\n",
      "`import dash_core_components as dcc` with `from dash import dcc`\n",
      "  import dash_core_components as dcc\n",
      "<ipython-input-62-a57e689f3421>:3: UserWarning: \n",
      "The dash_html_components package is deprecated. Please replace\n",
      "`import dash_html_components as html` with `from dash import html`\n",
      "  import dash_html_components as html\n"
     ]
    }
   ],
   "source": [
    "import dash\n",
    "import dash_core_components as dcc\n",
    "import dash_html_components as html\n",
    "\n",
    "fig = go.Figure()\n",
    "app = dash.Dash()\n",
    "\n",
    "app.layout = html.Div([\n",
    "    html.Label(children='STATISTICS OF COVID-19'),\n",
    "    dcc.Dropdown(id='country_drop_down', options=option_list, multi=False, value=option_list[0]['value'], placeholder='Filter by COUNTRY...'),\n",
    "    dcc.Graph(figure=fig, id='main_window_slope') # Output\n",
    "])"
   ]
  },
  {
   "cell_type": "code",
   "execution_count": 63,
   "metadata": {},
   "outputs": [],
   "source": [
    "from dash.dependencies import Input, Output\n",
    "\n",
    "@app.callback(\n",
    "    Output('main_window_slope', 'figure'),\n",
    "    [Input('country_drop_down', 'value')])\n",
    "def update_function(country_drop_down):\n",
    "    \n",
    "    traces = []\n",
    "    \n",
    "    #if country_drop_down == 'Germany_infected':\n",
    "    traces.append(dict(x=SIR.index,\n",
    "                       y=SIR[country_drop_down],\n",
    "                         mode='markers',\n",
    "                         opacity=0.9,\n",
    "                         line_width=2,\n",
    "                         marker_size=4,\n",
    "                         name=country_drop_down))\n",
    "    traces.append(dict(x=SIR.index,\n",
    "                       y=SIR[country_drop_down+str('_fitted')],\n",
    "                         mode='lines',\n",
    "                         opacity=0.9,\n",
    "                         line_width=2,\n",
    "                         marker_size=4,\n",
    "                         name=country_drop_down+str('_fitted')))\n",
    "    # Object rendering will be returned to layout\n",
    "    \n",
    "    \n",
    "   \n",
    "\n",
    "    \n",
    "    return {\n",
    "            'data': traces,\n",
    "            'layout': dict(\n",
    "                width=1280,\n",
    "                height=720,\n",
    "                xaxis_title=\"Time\",\n",
    "                yaxis_title=\"Infected_population\",\n",
    "                xaxis={'title':'Timeline',\n",
    "                       'tickangle':-45,\n",
    "                       'nticks':20,\n",
    "                       'tickfont':dict(size=14, color=\"#7f7f7f\"),\n",
    "                      },\n",
    "                yaxis={'title':'infected Population',\n",
    "                       'type':\"linear\",\n",
    "                       'range':'[1.1,5.5]'}\n",
    "            )}"
   ]
  },
  {
   "cell_type": "code",
   "execution_count": null,
   "metadata": {},
   "outputs": [
    {
     "name": "stdout",
     "output_type": "stream",
     "text": [
      "Dash is running on http://127.0.0.1:8050/\n",
      "\n",
      " * Serving Flask app \"__main__\" (lazy loading)\n",
      " * Environment: production\n",
      "   WARNING: This is a development server. Do not use it in a production deployment.\n",
      "   Use a production WSGI server instead.\n",
      " * Debug mode: on\n"
     ]
    }
   ],
   "source": [
    "app.run_server(debug=True, use_reloader=False)"
   ]
  },
  {
   "cell_type": "code",
   "execution_count": null,
   "metadata": {},
   "outputs": [],
   "source": []
  },
  {
   "cell_type": "markdown",
   "metadata": {},
   "source": [
    "# SIR Model"
   ]
  },
  {
   "cell_type": "code",
   "execution_count": null,
   "metadata": {},
   "outputs": [],
   "source": [
    "data_raw = pd.read_csv('../data/raw/owid-covid-data.csv')"
   ]
  },
  {
   "cell_type": "code",
   "execution_count": null,
   "metadata": {},
   "outputs": [],
   "source": [
    "country_list = data_raw['location'].unique()"
   ]
  },
  {
   "cell_type": "code",
   "execution_count": null,
   "metadata": {},
   "outputs": [],
   "source": [
    "data_analysis = pd.read_csv('../data/processed/processed_data.csv')\n",
    "data_analysis.set_index(['date'], inplace=True)\n",
    "data_analysis.head()"
   ]
  },
  {
   "cell_type": "code",
   "execution_count": null,
   "metadata": {},
   "outputs": [],
   "source": [
    "data_infected= pd.DataFrame(data_analysis.index)\n",
    "data_infected.set_index(['date'], inplace=True)"
   ]
  },
  {
   "cell_type": "code",
   "execution_count": null,
   "metadata": {},
   "outputs": [],
   "source": [
    "for each in country_list:\n",
    "    data_infected[each] = pd.DataFrame(data_analysis[each+str('_infected')])"
   ]
  },
  {
   "cell_type": "code",
   "execution_count": null,
   "metadata": {},
   "outputs": [],
   "source": [
    "data_infected.tail()"
   ]
  },
  {
   "cell_type": "code",
   "execution_count": null,
   "metadata": {},
   "outputs": [],
   "source": [
    "# Parameters\n",
    "\n",
    "N0 = 80000000 # Population size\n",
    "beta = 0.4\n",
    "gamma = 0.1  # 1(gamma) Person can infect 4(beta) people\n",
    "\n",
    "I0 = data_infected.Germany[35]   # Initial infected size\n",
    "S0 = N0-I0  # Population prone to infection\n",
    "R0 = 0  # Initial recovered size"
   ]
  },
  {
   "cell_type": "code",
   "execution_count": null,
   "metadata": {},
   "outputs": [],
   "source": [
    "def SIR_model(SIR, beta, gamma):\n",
    "    ''' Simple SIR model\n",
    "        S: susceptible population\n",
    "        I: infected people\n",
    "        R: recovered people\n",
    "        beta:\n",
    "        \n",
    "        overall condition is that the sum of changes (differences) sum up to 0\n",
    "        dS+dI+dR=0\n",
    "        S+I+R = N (constant size of population)\n",
    "    '''\n",
    "    \n",
    "    S,I,R = SIR\n",
    "    dS_dt = -beta*S*I/N0\n",
    "    dI_dt = beta*S*I/N0-gamma*I\n",
    "    dR_dt = gamma*I\n",
    "    return ([dS_dt, dI_dt, dR_dt])"
   ]
  },
  {
   "cell_type": "code",
   "execution_count": null,
   "metadata": {},
   "outputs": [],
   "source": [
    "SIR = np.array([S0,I0,R0])\n",
    "propagation_rates = pd.DataFrame(columns={'susceptible':S0, 'infected':I0, 'recovered':R0})\n",
    "\n",
    "for each_t in np.arange(200):\n",
    "#for each_t in np.arange(len(data_infected)):\n",
    "    new_delta_vec = SIR_model(SIR, beta, gamma)\n",
    "    SIR = SIR+new_delta_vec\n",
    "    propagation_rates = propagation_rates.append({'susceptible':SIR[0], 'infected':SIR[1], 'recovered':SIR[2]}, ignore_index=True)\n",
    "    "
   ]
  },
  {
   "cell_type": "code",
   "execution_count": null,
   "metadata": {},
   "outputs": [],
   "source": [
    "propagation_rates.tail()"
   ]
  },
  {
   "cell_type": "code",
   "execution_count": null,
   "metadata": {},
   "outputs": [],
   "source": [
    "fig, ax1 = plt.subplots(1,1)\n",
    "\n",
    "ax1.plot(propagation_rates.index, propagation_rates.infected, label = 'infected', color = 'red')\n",
    "ax1.plot(propagation_rates.index, propagation_rates.susceptible, label = 'susceptible', color = 'green')\n",
    "ax1.plot(propagation_rates.index, propagation_rates.recovered, label = 'recovered', color = 'blue')\n",
    "\n",
    "\n",
    "ax1.set_yscale('linear')\n",
    "\n",
    "ax1.set_title('Szenario SIR simulations (demonstration purposes only)', size = 16)\n",
    "ax1.set_xlabel('time in days', size = 16)\n",
    "ax1.legend(loc = 'best', prop={'size':16})"
   ]
  },
  {
   "cell_type": "code",
   "execution_count": null,
   "metadata": {},
   "outputs": [],
   "source": []
  }
 ],
 "metadata": {
  "kernelspec": {
   "display_name": "Python 3",
   "language": "python",
   "name": "python3"
  },
  "language_info": {
   "codemirror_mode": {
    "name": "ipython",
    "version": 3
   },
   "file_extension": ".py",
   "mimetype": "text/x-python",
   "name": "python",
   "nbconvert_exporter": "python",
   "pygments_lexer": "ipython3",
   "version": "3.8.5"
  }
 },
 "nbformat": 4,
 "nbformat_minor": 4
}
