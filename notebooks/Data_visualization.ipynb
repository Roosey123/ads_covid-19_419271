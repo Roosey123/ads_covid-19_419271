{
 "cells": [
  {
   "cell_type": "markdown",
   "metadata": {},
   "source": [
    "# Importing Libraries"
   ]
  },
  {
   "cell_type": "code",
   "execution_count": 1,
   "metadata": {},
   "outputs": [],
   "source": [
    "import pandas as pd \n",
    "import numpy as np\n",
    "import matplotlib.pyplot as plt\n",
    "import matplotlib as mpl\n",
    "import seaborn as sns\n",
    "#import missingno as msno\n",
    "\n",
    "from datetime import datetime"
   ]
  },
  {
   "cell_type": "markdown",
   "metadata": {},
   "source": [
    "# Styles and Settings"
   ]
  },
  {
   "cell_type": "code",
   "execution_count": 2,
   "metadata": {},
   "outputs": [],
   "source": [
    "%matplotlib inline\n",
    "sns.set_style(\"dark\")\n",
    "mpl.rcParams['figure.figsize'] = (16,9)\n",
    "pd.set_option('display.max_rows', 500)"
   ]
  },
  {
   "cell_type": "markdown",
   "metadata": {},
   "source": [
    "# Data Gathering"
   ]
  },
  {
   "cell_type": "markdown",
   "metadata": {},
   "source": [
    "data gathered from https://github.com/owid/covid-19-data/blob/master/public/data/owid-covid-data.csv"
   ]
  },
  {
   "cell_type": "code",
   "execution_count": 3,
   "metadata": {},
   "outputs": [],
   "source": [
    "# Reading the csv file\n",
    "data_raw = pd.read_csv('../data/raw/owid-covid-data.csv')"
   ]
  },
  {
   "cell_type": "code",
   "execution_count": 4,
   "metadata": {},
   "outputs": [
    {
     "data": {
      "text/html": [
       "<div>\n",
       "<style scoped>\n",
       "    .dataframe tbody tr th:only-of-type {\n",
       "        vertical-align: middle;\n",
       "    }\n",
       "\n",
       "    .dataframe tbody tr th {\n",
       "        vertical-align: top;\n",
       "    }\n",
       "\n",
       "    .dataframe thead th {\n",
       "        text-align: right;\n",
       "    }\n",
       "</style>\n",
       "<table border=\"1\" class=\"dataframe\">\n",
       "  <thead>\n",
       "    <tr style=\"text-align: right;\">\n",
       "      <th></th>\n",
       "      <th>iso_code</th>\n",
       "      <th>continent</th>\n",
       "      <th>location</th>\n",
       "      <th>date</th>\n",
       "      <th>total_cases</th>\n",
       "      <th>new_cases</th>\n",
       "      <th>new_cases_smoothed</th>\n",
       "      <th>total_deaths</th>\n",
       "      <th>new_deaths</th>\n",
       "      <th>new_deaths_smoothed</th>\n",
       "      <th>...</th>\n",
       "      <th>female_smokers</th>\n",
       "      <th>male_smokers</th>\n",
       "      <th>handwashing_facilities</th>\n",
       "      <th>hospital_beds_per_thousand</th>\n",
       "      <th>life_expectancy</th>\n",
       "      <th>human_development_index</th>\n",
       "      <th>excess_mortality_cumulative_absolute</th>\n",
       "      <th>excess_mortality_cumulative</th>\n",
       "      <th>excess_mortality</th>\n",
       "      <th>excess_mortality_cumulative_per_million</th>\n",
       "    </tr>\n",
       "  </thead>\n",
       "  <tbody>\n",
       "    <tr>\n",
       "      <th>0</th>\n",
       "      <td>AFG</td>\n",
       "      <td>Asia</td>\n",
       "      <td>Afghanistan</td>\n",
       "      <td>2020-02-24</td>\n",
       "      <td>5.0</td>\n",
       "      <td>5.0</td>\n",
       "      <td>NaN</td>\n",
       "      <td>NaN</td>\n",
       "      <td>NaN</td>\n",
       "      <td>NaN</td>\n",
       "      <td>...</td>\n",
       "      <td>NaN</td>\n",
       "      <td>NaN</td>\n",
       "      <td>37.746</td>\n",
       "      <td>0.5</td>\n",
       "      <td>64.83</td>\n",
       "      <td>0.511</td>\n",
       "      <td>NaN</td>\n",
       "      <td>NaN</td>\n",
       "      <td>NaN</td>\n",
       "      <td>NaN</td>\n",
       "    </tr>\n",
       "    <tr>\n",
       "      <th>1</th>\n",
       "      <td>AFG</td>\n",
       "      <td>Asia</td>\n",
       "      <td>Afghanistan</td>\n",
       "      <td>2020-02-25</td>\n",
       "      <td>5.0</td>\n",
       "      <td>0.0</td>\n",
       "      <td>NaN</td>\n",
       "      <td>NaN</td>\n",
       "      <td>NaN</td>\n",
       "      <td>NaN</td>\n",
       "      <td>...</td>\n",
       "      <td>NaN</td>\n",
       "      <td>NaN</td>\n",
       "      <td>37.746</td>\n",
       "      <td>0.5</td>\n",
       "      <td>64.83</td>\n",
       "      <td>0.511</td>\n",
       "      <td>NaN</td>\n",
       "      <td>NaN</td>\n",
       "      <td>NaN</td>\n",
       "      <td>NaN</td>\n",
       "    </tr>\n",
       "    <tr>\n",
       "      <th>2</th>\n",
       "      <td>AFG</td>\n",
       "      <td>Asia</td>\n",
       "      <td>Afghanistan</td>\n",
       "      <td>2020-02-26</td>\n",
       "      <td>5.0</td>\n",
       "      <td>0.0</td>\n",
       "      <td>NaN</td>\n",
       "      <td>NaN</td>\n",
       "      <td>NaN</td>\n",
       "      <td>NaN</td>\n",
       "      <td>...</td>\n",
       "      <td>NaN</td>\n",
       "      <td>NaN</td>\n",
       "      <td>37.746</td>\n",
       "      <td>0.5</td>\n",
       "      <td>64.83</td>\n",
       "      <td>0.511</td>\n",
       "      <td>NaN</td>\n",
       "      <td>NaN</td>\n",
       "      <td>NaN</td>\n",
       "      <td>NaN</td>\n",
       "    </tr>\n",
       "    <tr>\n",
       "      <th>3</th>\n",
       "      <td>AFG</td>\n",
       "      <td>Asia</td>\n",
       "      <td>Afghanistan</td>\n",
       "      <td>2020-02-27</td>\n",
       "      <td>5.0</td>\n",
       "      <td>0.0</td>\n",
       "      <td>NaN</td>\n",
       "      <td>NaN</td>\n",
       "      <td>NaN</td>\n",
       "      <td>NaN</td>\n",
       "      <td>...</td>\n",
       "      <td>NaN</td>\n",
       "      <td>NaN</td>\n",
       "      <td>37.746</td>\n",
       "      <td>0.5</td>\n",
       "      <td>64.83</td>\n",
       "      <td>0.511</td>\n",
       "      <td>NaN</td>\n",
       "      <td>NaN</td>\n",
       "      <td>NaN</td>\n",
       "      <td>NaN</td>\n",
       "    </tr>\n",
       "    <tr>\n",
       "      <th>4</th>\n",
       "      <td>AFG</td>\n",
       "      <td>Asia</td>\n",
       "      <td>Afghanistan</td>\n",
       "      <td>2020-02-28</td>\n",
       "      <td>5.0</td>\n",
       "      <td>0.0</td>\n",
       "      <td>NaN</td>\n",
       "      <td>NaN</td>\n",
       "      <td>NaN</td>\n",
       "      <td>NaN</td>\n",
       "      <td>...</td>\n",
       "      <td>NaN</td>\n",
       "      <td>NaN</td>\n",
       "      <td>37.746</td>\n",
       "      <td>0.5</td>\n",
       "      <td>64.83</td>\n",
       "      <td>0.511</td>\n",
       "      <td>NaN</td>\n",
       "      <td>NaN</td>\n",
       "      <td>NaN</td>\n",
       "      <td>NaN</td>\n",
       "    </tr>\n",
       "  </tbody>\n",
       "</table>\n",
       "<p>5 rows × 67 columns</p>\n",
       "</div>"
      ],
      "text/plain": [
       "  iso_code continent     location        date  total_cases  new_cases  \\\n",
       "0      AFG      Asia  Afghanistan  2020-02-24          5.0        5.0   \n",
       "1      AFG      Asia  Afghanistan  2020-02-25          5.0        0.0   \n",
       "2      AFG      Asia  Afghanistan  2020-02-26          5.0        0.0   \n",
       "3      AFG      Asia  Afghanistan  2020-02-27          5.0        0.0   \n",
       "4      AFG      Asia  Afghanistan  2020-02-28          5.0        0.0   \n",
       "\n",
       "   new_cases_smoothed  total_deaths  new_deaths  new_deaths_smoothed  ...  \\\n",
       "0                 NaN           NaN         NaN                  NaN  ...   \n",
       "1                 NaN           NaN         NaN                  NaN  ...   \n",
       "2                 NaN           NaN         NaN                  NaN  ...   \n",
       "3                 NaN           NaN         NaN                  NaN  ...   \n",
       "4                 NaN           NaN         NaN                  NaN  ...   \n",
       "\n",
       "   female_smokers  male_smokers  handwashing_facilities  \\\n",
       "0             NaN           NaN                  37.746   \n",
       "1             NaN           NaN                  37.746   \n",
       "2             NaN           NaN                  37.746   \n",
       "3             NaN           NaN                  37.746   \n",
       "4             NaN           NaN                  37.746   \n",
       "\n",
       "   hospital_beds_per_thousand  life_expectancy  human_development_index  \\\n",
       "0                         0.5            64.83                    0.511   \n",
       "1                         0.5            64.83                    0.511   \n",
       "2                         0.5            64.83                    0.511   \n",
       "3                         0.5            64.83                    0.511   \n",
       "4                         0.5            64.83                    0.511   \n",
       "\n",
       "   excess_mortality_cumulative_absolute  excess_mortality_cumulative  \\\n",
       "0                                   NaN                          NaN   \n",
       "1                                   NaN                          NaN   \n",
       "2                                   NaN                          NaN   \n",
       "3                                   NaN                          NaN   \n",
       "4                                   NaN                          NaN   \n",
       "\n",
       "   excess_mortality  excess_mortality_cumulative_per_million  \n",
       "0               NaN                                      NaN  \n",
       "1               NaN                                      NaN  \n",
       "2               NaN                                      NaN  \n",
       "3               NaN                                      NaN  \n",
       "4               NaN                                      NaN  \n",
       "\n",
       "[5 rows x 67 columns]"
      ]
     },
     "execution_count": 4,
     "metadata": {},
     "output_type": "execute_result"
    }
   ],
   "source": [
    "data_raw.head()"
   ]
  },
  {
   "cell_type": "code",
   "execution_count": 5,
   "metadata": {},
   "outputs": [
    {
     "data": {
      "text/plain": [
       "Index(['iso_code', 'continent', 'location', 'date', 'total_cases', 'new_cases',\n",
       "       'new_cases_smoothed', 'total_deaths', 'new_deaths',\n",
       "       'new_deaths_smoothed', 'total_cases_per_million',\n",
       "       'new_cases_per_million', 'new_cases_smoothed_per_million',\n",
       "       'total_deaths_per_million', 'new_deaths_per_million',\n",
       "       'new_deaths_smoothed_per_million', 'reproduction_rate', 'icu_patients',\n",
       "       'icu_patients_per_million', 'hosp_patients',\n",
       "       'hosp_patients_per_million', 'weekly_icu_admissions',\n",
       "       'weekly_icu_admissions_per_million', 'weekly_hosp_admissions',\n",
       "       'weekly_hosp_admissions_per_million', 'total_tests', 'new_tests',\n",
       "       'total_tests_per_thousand', 'new_tests_per_thousand',\n",
       "       'new_tests_smoothed', 'new_tests_smoothed_per_thousand',\n",
       "       'positive_rate', 'tests_per_case', 'tests_units', 'total_vaccinations',\n",
       "       'people_vaccinated', 'people_fully_vaccinated', 'total_boosters',\n",
       "       'new_vaccinations', 'new_vaccinations_smoothed',\n",
       "       'total_vaccinations_per_hundred', 'people_vaccinated_per_hundred',\n",
       "       'people_fully_vaccinated_per_hundred', 'total_boosters_per_hundred',\n",
       "       'new_vaccinations_smoothed_per_million',\n",
       "       'new_people_vaccinated_smoothed',\n",
       "       'new_people_vaccinated_smoothed_per_hundred', 'stringency_index',\n",
       "       'population', 'population_density', 'median_age', 'aged_65_older',\n",
       "       'aged_70_older', 'gdp_per_capita', 'extreme_poverty',\n",
       "       'cardiovasc_death_rate', 'diabetes_prevalence', 'female_smokers',\n",
       "       'male_smokers', 'handwashing_facilities', 'hospital_beds_per_thousand',\n",
       "       'life_expectancy', 'human_development_index',\n",
       "       'excess_mortality_cumulative_absolute', 'excess_mortality_cumulative',\n",
       "       'excess_mortality', 'excess_mortality_cumulative_per_million'],\n",
       "      dtype='object')"
      ]
     },
     "execution_count": 5,
     "metadata": {},
     "output_type": "execute_result"
    }
   ],
   "source": [
    "data_raw.columns"
   ]
  },
  {
   "cell_type": "code",
   "execution_count": 6,
   "metadata": {},
   "outputs": [],
   "source": [
    "# Required data\n",
    "data_trivial = data_raw[['date', 'location','total_cases', 'population', 'people_fully_vaccinated']]"
   ]
  },
  {
   "cell_type": "code",
   "execution_count": 7,
   "metadata": {},
   "outputs": [
    {
     "data": {
      "text/html": [
       "<div>\n",
       "<style scoped>\n",
       "    .dataframe tbody tr th:only-of-type {\n",
       "        vertical-align: middle;\n",
       "    }\n",
       "\n",
       "    .dataframe tbody tr th {\n",
       "        vertical-align: top;\n",
       "    }\n",
       "\n",
       "    .dataframe thead th {\n",
       "        text-align: right;\n",
       "    }\n",
       "</style>\n",
       "<table border=\"1\" class=\"dataframe\">\n",
       "  <thead>\n",
       "    <tr style=\"text-align: right;\">\n",
       "      <th></th>\n",
       "      <th>date</th>\n",
       "      <th>location</th>\n",
       "      <th>total_cases</th>\n",
       "      <th>population</th>\n",
       "      <th>people_fully_vaccinated</th>\n",
       "    </tr>\n",
       "  </thead>\n",
       "  <tbody>\n",
       "    <tr>\n",
       "      <th>196769</th>\n",
       "      <td>2022-06-21</td>\n",
       "      <td>Zimbabwe</td>\n",
       "      <td>254919.0</td>\n",
       "      <td>15092171.0</td>\n",
       "      <td>4583367.0</td>\n",
       "    </tr>\n",
       "    <tr>\n",
       "      <th>196770</th>\n",
       "      <td>2022-06-22</td>\n",
       "      <td>Zimbabwe</td>\n",
       "      <td>255049.0</td>\n",
       "      <td>15092171.0</td>\n",
       "      <td>4588340.0</td>\n",
       "    </tr>\n",
       "    <tr>\n",
       "      <th>196771</th>\n",
       "      <td>2022-06-23</td>\n",
       "      <td>Zimbabwe</td>\n",
       "      <td>255136.0</td>\n",
       "      <td>15092171.0</td>\n",
       "      <td>4613420.0</td>\n",
       "    </tr>\n",
       "    <tr>\n",
       "      <th>196772</th>\n",
       "      <td>2022-06-24</td>\n",
       "      <td>Zimbabwe</td>\n",
       "      <td>255309.0</td>\n",
       "      <td>15092171.0</td>\n",
       "      <td>NaN</td>\n",
       "    </tr>\n",
       "    <tr>\n",
       "      <th>196773</th>\n",
       "      <td>2022-06-25</td>\n",
       "      <td>Zimbabwe</td>\n",
       "      <td>255309.0</td>\n",
       "      <td>15092171.0</td>\n",
       "      <td>NaN</td>\n",
       "    </tr>\n",
       "  </tbody>\n",
       "</table>\n",
       "</div>"
      ],
      "text/plain": [
       "              date  location  total_cases  population  people_fully_vaccinated\n",
       "196769  2022-06-21  Zimbabwe     254919.0  15092171.0                4583367.0\n",
       "196770  2022-06-22  Zimbabwe     255049.0  15092171.0                4588340.0\n",
       "196771  2022-06-23  Zimbabwe     255136.0  15092171.0                4613420.0\n",
       "196772  2022-06-24  Zimbabwe     255309.0  15092171.0                      NaN\n",
       "196773  2022-06-25  Zimbabwe     255309.0  15092171.0                      NaN"
      ]
     },
     "execution_count": 7,
     "metadata": {},
     "output_type": "execute_result"
    }
   ],
   "source": [
    "data_trivial.tail()"
   ]
  },
  {
   "cell_type": "code",
   "execution_count": 8,
   "metadata": {},
   "outputs": [],
   "source": [
    "# Changing the column names\n",
    "data_trivial = data_trivial.rename(columns={'location':'country', 'total_cases':'infected', 'people_fully_vaccinated':'vaccinated'})"
   ]
  },
  {
   "cell_type": "code",
   "execution_count": 9,
   "metadata": {},
   "outputs": [
    {
     "data": {
      "text/html": [
       "<div>\n",
       "<style scoped>\n",
       "    .dataframe tbody tr th:only-of-type {\n",
       "        vertical-align: middle;\n",
       "    }\n",
       "\n",
       "    .dataframe tbody tr th {\n",
       "        vertical-align: top;\n",
       "    }\n",
       "\n",
       "    .dataframe thead th {\n",
       "        text-align: right;\n",
       "    }\n",
       "</style>\n",
       "<table border=\"1\" class=\"dataframe\">\n",
       "  <thead>\n",
       "    <tr style=\"text-align: right;\">\n",
       "      <th></th>\n",
       "      <th>date</th>\n",
       "      <th>country</th>\n",
       "      <th>infected</th>\n",
       "      <th>population</th>\n",
       "      <th>vaccinated</th>\n",
       "    </tr>\n",
       "  </thead>\n",
       "  <tbody>\n",
       "    <tr>\n",
       "      <th>0</th>\n",
       "      <td>2020-02-24</td>\n",
       "      <td>Afghanistan</td>\n",
       "      <td>5.0</td>\n",
       "      <td>39835428.0</td>\n",
       "      <td>NaN</td>\n",
       "    </tr>\n",
       "    <tr>\n",
       "      <th>1</th>\n",
       "      <td>2020-02-25</td>\n",
       "      <td>Afghanistan</td>\n",
       "      <td>5.0</td>\n",
       "      <td>39835428.0</td>\n",
       "      <td>NaN</td>\n",
       "    </tr>\n",
       "    <tr>\n",
       "      <th>2</th>\n",
       "      <td>2020-02-26</td>\n",
       "      <td>Afghanistan</td>\n",
       "      <td>5.0</td>\n",
       "      <td>39835428.0</td>\n",
       "      <td>NaN</td>\n",
       "    </tr>\n",
       "    <tr>\n",
       "      <th>3</th>\n",
       "      <td>2020-02-27</td>\n",
       "      <td>Afghanistan</td>\n",
       "      <td>5.0</td>\n",
       "      <td>39835428.0</td>\n",
       "      <td>NaN</td>\n",
       "    </tr>\n",
       "    <tr>\n",
       "      <th>4</th>\n",
       "      <td>2020-02-28</td>\n",
       "      <td>Afghanistan</td>\n",
       "      <td>5.0</td>\n",
       "      <td>39835428.0</td>\n",
       "      <td>NaN</td>\n",
       "    </tr>\n",
       "  </tbody>\n",
       "</table>\n",
       "</div>"
      ],
      "text/plain": [
       "         date      country  infected  population  vaccinated\n",
       "0  2020-02-24  Afghanistan       5.0  39835428.0         NaN\n",
       "1  2020-02-25  Afghanistan       5.0  39835428.0         NaN\n",
       "2  2020-02-26  Afghanistan       5.0  39835428.0         NaN\n",
       "3  2020-02-27  Afghanistan       5.0  39835428.0         NaN\n",
       "4  2020-02-28  Afghanistan       5.0  39835428.0         NaN"
      ]
     },
     "execution_count": 9,
     "metadata": {},
     "output_type": "execute_result"
    }
   ],
   "source": [
    "data_trivial.head()"
   ]
  },
  {
   "cell_type": "code",
   "execution_count": 10,
   "metadata": {},
   "outputs": [],
   "source": [
    "# Adding 'Relativecases' and 'vaccination_rate' columns\n",
    "data_trivial['Relativecases'] = data_trivial['infected']/data_trivial['population']\n",
    "data_trivial['vaccination_rate'] = (data_trivial['vaccinated']/data_trivial['population'])*100"
   ]
  },
  {
   "cell_type": "code",
   "execution_count": 11,
   "metadata": {},
   "outputs": [
    {
     "data": {
      "text/html": [
       "<div>\n",
       "<style scoped>\n",
       "    .dataframe tbody tr th:only-of-type {\n",
       "        vertical-align: middle;\n",
       "    }\n",
       "\n",
       "    .dataframe tbody tr th {\n",
       "        vertical-align: top;\n",
       "    }\n",
       "\n",
       "    .dataframe thead th {\n",
       "        text-align: right;\n",
       "    }\n",
       "</style>\n",
       "<table border=\"1\" class=\"dataframe\">\n",
       "  <thead>\n",
       "    <tr style=\"text-align: right;\">\n",
       "      <th></th>\n",
       "      <th>date</th>\n",
       "      <th>country</th>\n",
       "      <th>infected</th>\n",
       "      <th>population</th>\n",
       "      <th>vaccinated</th>\n",
       "      <th>Relativecases</th>\n",
       "      <th>vaccination_rate</th>\n",
       "    </tr>\n",
       "  </thead>\n",
       "  <tbody>\n",
       "    <tr>\n",
       "      <th>196769</th>\n",
       "      <td>2022-06-21</td>\n",
       "      <td>Zimbabwe</td>\n",
       "      <td>254919.0</td>\n",
       "      <td>15092171.0</td>\n",
       "      <td>4583367.0</td>\n",
       "      <td>0.016891</td>\n",
       "      <td>30.369170</td>\n",
       "    </tr>\n",
       "    <tr>\n",
       "      <th>196770</th>\n",
       "      <td>2022-06-22</td>\n",
       "      <td>Zimbabwe</td>\n",
       "      <td>255049.0</td>\n",
       "      <td>15092171.0</td>\n",
       "      <td>4588340.0</td>\n",
       "      <td>0.016899</td>\n",
       "      <td>30.402120</td>\n",
       "    </tr>\n",
       "    <tr>\n",
       "      <th>196771</th>\n",
       "      <td>2022-06-23</td>\n",
       "      <td>Zimbabwe</td>\n",
       "      <td>255136.0</td>\n",
       "      <td>15092171.0</td>\n",
       "      <td>4613420.0</td>\n",
       "      <td>0.016905</td>\n",
       "      <td>30.568299</td>\n",
       "    </tr>\n",
       "    <tr>\n",
       "      <th>196772</th>\n",
       "      <td>2022-06-24</td>\n",
       "      <td>Zimbabwe</td>\n",
       "      <td>255309.0</td>\n",
       "      <td>15092171.0</td>\n",
       "      <td>NaN</td>\n",
       "      <td>0.016917</td>\n",
       "      <td>NaN</td>\n",
       "    </tr>\n",
       "    <tr>\n",
       "      <th>196773</th>\n",
       "      <td>2022-06-25</td>\n",
       "      <td>Zimbabwe</td>\n",
       "      <td>255309.0</td>\n",
       "      <td>15092171.0</td>\n",
       "      <td>NaN</td>\n",
       "      <td>0.016917</td>\n",
       "      <td>NaN</td>\n",
       "    </tr>\n",
       "  </tbody>\n",
       "</table>\n",
       "</div>"
      ],
      "text/plain": [
       "              date   country  infected  population  vaccinated  Relativecases  \\\n",
       "196769  2022-06-21  Zimbabwe  254919.0  15092171.0   4583367.0       0.016891   \n",
       "196770  2022-06-22  Zimbabwe  255049.0  15092171.0   4588340.0       0.016899   \n",
       "196771  2022-06-23  Zimbabwe  255136.0  15092171.0   4613420.0       0.016905   \n",
       "196772  2022-06-24  Zimbabwe  255309.0  15092171.0         NaN       0.016917   \n",
       "196773  2022-06-25  Zimbabwe  255309.0  15092171.0         NaN       0.016917   \n",
       "\n",
       "        vaccination_rate  \n",
       "196769         30.369170  \n",
       "196770         30.402120  \n",
       "196771         30.568299  \n",
       "196772               NaN  \n",
       "196773               NaN  "
      ]
     },
     "execution_count": 11,
     "metadata": {},
     "output_type": "execute_result"
    }
   ],
   "source": [
    "data_trivial.tail()"
   ]
  },
  {
   "cell_type": "markdown",
   "metadata": {},
   "source": [
    "# Converting date to correct data-type"
   ]
  },
  {
   "cell_type": "code",
   "execution_count": 12,
   "metadata": {},
   "outputs": [
    {
     "data": {
      "text/plain": [
       "str"
      ]
     },
     "execution_count": 12,
     "metadata": {},
     "output_type": "execute_result"
    }
   ],
   "source": [
    "date = data_trivial['date'][0]\n",
    "type(date)"
   ]
  },
  {
   "cell_type": "code",
   "execution_count": 13,
   "metadata": {},
   "outputs": [],
   "source": [
    "date_idx = [datetime.strptime(each, '%Y-%m-%d') for each in data_trivial.date]"
   ]
  },
  {
   "cell_type": "code",
   "execution_count": 14,
   "metadata": {},
   "outputs": [],
   "source": [
    "data_trivial['date'] = date_idx"
   ]
  },
  {
   "cell_type": "code",
   "execution_count": 15,
   "metadata": {},
   "outputs": [
    {
     "data": {
      "text/html": [
       "<div>\n",
       "<style scoped>\n",
       "    .dataframe tbody tr th:only-of-type {\n",
       "        vertical-align: middle;\n",
       "    }\n",
       "\n",
       "    .dataframe tbody tr th {\n",
       "        vertical-align: top;\n",
       "    }\n",
       "\n",
       "    .dataframe thead th {\n",
       "        text-align: right;\n",
       "    }\n",
       "</style>\n",
       "<table border=\"1\" class=\"dataframe\">\n",
       "  <thead>\n",
       "    <tr style=\"text-align: right;\">\n",
       "      <th></th>\n",
       "      <th>date</th>\n",
       "      <th>country</th>\n",
       "      <th>infected</th>\n",
       "      <th>population</th>\n",
       "      <th>vaccinated</th>\n",
       "      <th>Relativecases</th>\n",
       "      <th>vaccination_rate</th>\n",
       "    </tr>\n",
       "  </thead>\n",
       "  <tbody>\n",
       "    <tr>\n",
       "      <th>0</th>\n",
       "      <td>2020-02-24</td>\n",
       "      <td>Afghanistan</td>\n",
       "      <td>5.0</td>\n",
       "      <td>39835428.0</td>\n",
       "      <td>NaN</td>\n",
       "      <td>1.255164e-07</td>\n",
       "      <td>NaN</td>\n",
       "    </tr>\n",
       "    <tr>\n",
       "      <th>1</th>\n",
       "      <td>2020-02-25</td>\n",
       "      <td>Afghanistan</td>\n",
       "      <td>5.0</td>\n",
       "      <td>39835428.0</td>\n",
       "      <td>NaN</td>\n",
       "      <td>1.255164e-07</td>\n",
       "      <td>NaN</td>\n",
       "    </tr>\n",
       "    <tr>\n",
       "      <th>2</th>\n",
       "      <td>2020-02-26</td>\n",
       "      <td>Afghanistan</td>\n",
       "      <td>5.0</td>\n",
       "      <td>39835428.0</td>\n",
       "      <td>NaN</td>\n",
       "      <td>1.255164e-07</td>\n",
       "      <td>NaN</td>\n",
       "    </tr>\n",
       "    <tr>\n",
       "      <th>3</th>\n",
       "      <td>2020-02-27</td>\n",
       "      <td>Afghanistan</td>\n",
       "      <td>5.0</td>\n",
       "      <td>39835428.0</td>\n",
       "      <td>NaN</td>\n",
       "      <td>1.255164e-07</td>\n",
       "      <td>NaN</td>\n",
       "    </tr>\n",
       "    <tr>\n",
       "      <th>4</th>\n",
       "      <td>2020-02-28</td>\n",
       "      <td>Afghanistan</td>\n",
       "      <td>5.0</td>\n",
       "      <td>39835428.0</td>\n",
       "      <td>NaN</td>\n",
       "      <td>1.255164e-07</td>\n",
       "      <td>NaN</td>\n",
       "    </tr>\n",
       "  </tbody>\n",
       "</table>\n",
       "</div>"
      ],
      "text/plain": [
       "        date      country  infected  population  vaccinated  Relativecases  \\\n",
       "0 2020-02-24  Afghanistan       5.0  39835428.0         NaN   1.255164e-07   \n",
       "1 2020-02-25  Afghanistan       5.0  39835428.0         NaN   1.255164e-07   \n",
       "2 2020-02-26  Afghanistan       5.0  39835428.0         NaN   1.255164e-07   \n",
       "3 2020-02-27  Afghanistan       5.0  39835428.0         NaN   1.255164e-07   \n",
       "4 2020-02-28  Afghanistan       5.0  39835428.0         NaN   1.255164e-07   \n",
       "\n",
       "   vaccination_rate  \n",
       "0               NaN  \n",
       "1               NaN  \n",
       "2               NaN  \n",
       "3               NaN  \n",
       "4               NaN  "
      ]
     },
     "execution_count": 15,
     "metadata": {},
     "output_type": "execute_result"
    }
   ],
   "source": [
    "data_trivial.head()"
   ]
  },
  {
   "cell_type": "code",
   "execution_count": 16,
   "metadata": {},
   "outputs": [
    {
     "data": {
      "text/plain": [
       "date                datetime64[ns]\n",
       "country                     object\n",
       "infected                   float64\n",
       "population                 float64\n",
       "vaccinated                 float64\n",
       "Relativecases              float64\n",
       "vaccination_rate           float64\n",
       "dtype: object"
      ]
     },
     "execution_count": 16,
     "metadata": {},
     "output_type": "execute_result"
    }
   ],
   "source": [
    "data_trivial.dtypes"
   ]
  },
  {
   "cell_type": "markdown",
   "metadata": {},
   "source": [
    "# Analysis of one country"
   ]
  },
  {
   "cell_type": "code",
   "execution_count": 17,
   "metadata": {
    "scrolled": false
   },
   "outputs": [
    {
     "data": {
      "text/plain": [
       "array(['Afghanistan', 'Africa', 'Albania', 'Algeria', 'Andorra', 'Angola',\n",
       "       'Anguilla', 'Antigua and Barbuda', 'Argentina', 'Armenia', 'Aruba',\n",
       "       'Asia', 'Australia', 'Austria', 'Azerbaijan', 'Bahamas', 'Bahrain',\n",
       "       'Bangladesh', 'Barbados', 'Belarus', 'Belgium', 'Belize', 'Benin',\n",
       "       'Bermuda', 'Bhutan', 'Bolivia', 'Bonaire Sint Eustatius and Saba',\n",
       "       'Bosnia and Herzegovina', 'Botswana', 'Brazil',\n",
       "       'British Virgin Islands', 'Brunei', 'Bulgaria', 'Burkina Faso',\n",
       "       'Burundi', 'Cambodia', 'Cameroon', 'Canada', 'Cape Verde',\n",
       "       'Cayman Islands', 'Central African Republic', 'Chad', 'Chile',\n",
       "       'China', 'Colombia', 'Comoros', 'Congo', 'Cook Islands',\n",
       "       'Costa Rica', \"Cote d'Ivoire\", 'Croatia', 'Cuba', 'Curacao',\n",
       "       'Cyprus', 'Czechia', 'Democratic Republic of Congo', 'Denmark',\n",
       "       'Djibouti', 'Dominica', 'Dominican Republic', 'Ecuador', 'Egypt',\n",
       "       'El Salvador', 'Equatorial Guinea', 'Eritrea', 'Estonia',\n",
       "       'Eswatini', 'Ethiopia', 'Europe', 'European Union',\n",
       "       'Faeroe Islands', 'Falkland Islands', 'Fiji', 'Finland', 'France',\n",
       "       'French Polynesia', 'Gabon', 'Gambia', 'Georgia', 'Germany',\n",
       "       'Ghana', 'Gibraltar', 'Greece', 'Greenland', 'Grenada', 'Guam',\n",
       "       'Guatemala', 'Guernsey', 'Guinea', 'Guinea-Bissau', 'Guyana',\n",
       "       'Haiti', 'High income', 'Honduras', 'Hong Kong', 'Hungary',\n",
       "       'Iceland', 'India', 'Indonesia', 'International', 'Iran', 'Iraq',\n",
       "       'Ireland', 'Isle of Man', 'Israel', 'Italy', 'Jamaica', 'Japan',\n",
       "       'Jersey', 'Jordan', 'Kazakhstan', 'Kenya', 'Kiribati', 'Kosovo',\n",
       "       'Kuwait', 'Kyrgyzstan', 'Laos', 'Latvia', 'Lebanon', 'Lesotho',\n",
       "       'Liberia', 'Libya', 'Liechtenstein', 'Lithuania', 'Low income',\n",
       "       'Lower middle income', 'Luxembourg', 'Macao', 'Madagascar',\n",
       "       'Malawi', 'Malaysia', 'Maldives', 'Mali', 'Malta',\n",
       "       'Marshall Islands', 'Mauritania', 'Mauritius', 'Mexico',\n",
       "       'Micronesia (country)', 'Moldova', 'Monaco', 'Mongolia',\n",
       "       'Montenegro', 'Montserrat', 'Morocco', 'Mozambique', 'Myanmar',\n",
       "       'Namibia', 'Nauru', 'Nepal', 'Netherlands', 'New Caledonia',\n",
       "       'New Zealand', 'Nicaragua', 'Niger', 'Nigeria', 'Niue',\n",
       "       'North America', 'North Korea', 'North Macedonia',\n",
       "       'Northern Cyprus', 'Northern Mariana Islands', 'Norway', 'Oceania',\n",
       "       'Oman', 'Pakistan', 'Palau', 'Palestine', 'Panama',\n",
       "       'Papua New Guinea', 'Paraguay', 'Peru', 'Philippines', 'Pitcairn',\n",
       "       'Poland', 'Portugal', 'Puerto Rico', 'Qatar', 'Romania', 'Russia',\n",
       "       'Rwanda', 'Saint Helena', 'Saint Kitts and Nevis', 'Saint Lucia',\n",
       "       'Saint Pierre and Miquelon', 'Saint Vincent and the Grenadines',\n",
       "       'Samoa', 'San Marino', 'Sao Tome and Principe', 'Saudi Arabia',\n",
       "       'Senegal', 'Serbia', 'Seychelles', 'Sierra Leone', 'Singapore',\n",
       "       'Sint Maarten (Dutch part)', 'Slovakia', 'Slovenia',\n",
       "       'Solomon Islands', 'Somalia', 'South Africa', 'South America',\n",
       "       'South Korea', 'South Sudan', 'Spain', 'Sri Lanka', 'Sudan',\n",
       "       'Suriname', 'Sweden', 'Switzerland', 'Syria', 'Taiwan',\n",
       "       'Tajikistan', 'Tanzania', 'Thailand', 'Timor', 'Togo', 'Tokelau',\n",
       "       'Tonga', 'Trinidad and Tobago', 'Tunisia', 'Turkey',\n",
       "       'Turkmenistan', 'Turks and Caicos Islands', 'Tuvalu', 'Uganda',\n",
       "       'Ukraine', 'United Arab Emirates', 'United Kingdom',\n",
       "       'United States', 'United States Virgin Islands',\n",
       "       'Upper middle income', 'Uruguay', 'Uzbekistan', 'Vanuatu',\n",
       "       'Vatican', 'Venezuela', 'Vietnam', 'Wallis and Futuna',\n",
       "       'Western Sahara', 'World', 'Yemen', 'Zambia', 'Zimbabwe'],\n",
       "      dtype=object)"
      ]
     },
     "execution_count": 17,
     "metadata": {},
     "output_type": "execute_result"
    }
   ],
   "source": [
    "data_trivial['country'].unique()"
   ]
  },
  {
   "cell_type": "code",
   "execution_count": 18,
   "metadata": {},
   "outputs": [
    {
     "data": {
      "text/html": [
       "<div>\n",
       "<style scoped>\n",
       "    .dataframe tbody tr th:only-of-type {\n",
       "        vertical-align: middle;\n",
       "    }\n",
       "\n",
       "    .dataframe tbody tr th {\n",
       "        vertical-align: top;\n",
       "    }\n",
       "\n",
       "    .dataframe thead th {\n",
       "        text-align: right;\n",
       "    }\n",
       "</style>\n",
       "<table border=\"1\" class=\"dataframe\">\n",
       "  <thead>\n",
       "    <tr style=\"text-align: right;\">\n",
       "      <th></th>\n",
       "      <th>date</th>\n",
       "      <th>country</th>\n",
       "      <th>infected</th>\n",
       "      <th>population</th>\n",
       "      <th>vaccinated</th>\n",
       "      <th>Relativecases</th>\n",
       "      <th>vaccination_rate</th>\n",
       "    </tr>\n",
       "  </thead>\n",
       "  <tbody>\n",
       "    <tr>\n",
       "      <th>82124</th>\n",
       "      <td>2022-06-21</td>\n",
       "      <td>India</td>\n",
       "      <td>43331645.0</td>\n",
       "      <td>1.393409e+09</td>\n",
       "      <td>906949409.0</td>\n",
       "      <td>0.031098</td>\n",
       "      <td>65.088527</td>\n",
       "    </tr>\n",
       "    <tr>\n",
       "      <th>82125</th>\n",
       "      <td>2022-06-22</td>\n",
       "      <td>India</td>\n",
       "      <td>43344958.0</td>\n",
       "      <td>1.393409e+09</td>\n",
       "      <td>907810836.0</td>\n",
       "      <td>0.031107</td>\n",
       "      <td>65.150348</td>\n",
       "    </tr>\n",
       "    <tr>\n",
       "      <th>82126</th>\n",
       "      <td>2022-06-23</td>\n",
       "      <td>India</td>\n",
       "      <td>43362294.0</td>\n",
       "      <td>1.393409e+09</td>\n",
       "      <td>908786223.0</td>\n",
       "      <td>0.031120</td>\n",
       "      <td>65.220348</td>\n",
       "    </tr>\n",
       "    <tr>\n",
       "      <th>82127</th>\n",
       "      <td>2022-06-24</td>\n",
       "      <td>India</td>\n",
       "      <td>43378234.0</td>\n",
       "      <td>1.393409e+09</td>\n",
       "      <td>909724866.0</td>\n",
       "      <td>0.031131</td>\n",
       "      <td>65.287711</td>\n",
       "    </tr>\n",
       "    <tr>\n",
       "      <th>82128</th>\n",
       "      <td>2022-06-25</td>\n",
       "      <td>India</td>\n",
       "      <td>43389973.0</td>\n",
       "      <td>1.393409e+09</td>\n",
       "      <td>910723911.0</td>\n",
       "      <td>0.031139</td>\n",
       "      <td>65.359409</td>\n",
       "    </tr>\n",
       "  </tbody>\n",
       "</table>\n",
       "</div>"
      ],
      "text/plain": [
       "            date country    infected    population   vaccinated  \\\n",
       "82124 2022-06-21   India  43331645.0  1.393409e+09  906949409.0   \n",
       "82125 2022-06-22   India  43344958.0  1.393409e+09  907810836.0   \n",
       "82126 2022-06-23   India  43362294.0  1.393409e+09  908786223.0   \n",
       "82127 2022-06-24   India  43378234.0  1.393409e+09  909724866.0   \n",
       "82128 2022-06-25   India  43389973.0  1.393409e+09  910723911.0   \n",
       "\n",
       "       Relativecases  vaccination_rate  \n",
       "82124       0.031098         65.088527  \n",
       "82125       0.031107         65.150348  \n",
       "82126       0.031120         65.220348  \n",
       "82127       0.031131         65.287711  \n",
       "82128       0.031139         65.359409  "
      ]
     },
     "execution_count": 18,
     "metadata": {},
     "output_type": "execute_result"
    }
   ],
   "source": [
    "data_ind = data_trivial[data_trivial['country'] == 'India']\n",
    "data_ind.tail()"
   ]
  },
  {
   "cell_type": "markdown",
   "metadata": {},
   "source": [
    "As per the above image its is evident that, some of the data in vaccinated column is missing. If we want to fill this data, then we have to interpolate the data."
   ]
  },
  {
   "cell_type": "markdown",
   "metadata": {},
   "source": [
    "### Ploting infected data"
   ]
  },
  {
   "cell_type": "code",
   "execution_count": 19,
   "metadata": {},
   "outputs": [
    {
     "data": {
      "image/png": "[encoded data removed]",
      "text/plain": [
       "<Figure size 1152x648 with 1 Axes>"
      ]
     },
     "metadata": {},
     "output_type": "display_data"
    }
   ],
   "source": [
    "fig, ax1 = plt.subplots(1,1)\n",
    "ax1.plot(data_ind['date'], (data_ind['infected']/data_ind['population']), label='India', color = 'b')\n",
    "\n",
    "ax1.set_yscale('linear')\n",
    "\n",
    "ax1.set_title('Infected over time', size = 16)\n",
    "ax1.set_xlabel('Date', size = 16)\n",
    "ax1.set_ylabel('Relativecases (absolute Covid cases / Population size)', size = 16)\n",
    "\n",
    "ax1.legend(loc='best', prop={'size':16})\n",
    "\n",
    "plt.grid()"
   ]
  },
  {
   "cell_type": "markdown",
   "metadata": {},
   "source": [
    "### Ploting infected data"
   ]
  },
  {
   "cell_type": "code",
   "execution_count": 20,
   "metadata": {
    "scrolled": false
   },
   "outputs": [
    {
     "data": {
      "image/png": "[encoded data removed]",
      "text/plain": [
       "<Figure size 1152x648 with 1 Axes>"
      ]
     },
     "metadata": {},
     "output_type": "display_data"
    }
   ],
   "source": [
    "fig, ax1 = plt.subplots(1,1)\n",
    "ax1.plot(data_ind['date'], (data_ind['vaccinated']/data_ind['population'])*100, label='India', color = 'b')\n",
    "\n",
    "ax1.set_yscale('linear')\n",
    "\n",
    "ax1.set_title('Vaccination over time', size = 16)\n",
    "ax1.set_xlabel('Date', size = 16)\n",
    "ax1.set_ylabel('% of vaccination', size = 16)\n",
    "\n",
    "ax1.legend(loc='best', prop={'size':16})\n",
    "\n",
    "plt.grid()"
   ]
  },
  {
   "cell_type": "markdown",
   "metadata": {},
   "source": [
    "# Analysis of multiple countries"
   ]
  },
  {
   "cell_type": "code",
   "execution_count": 21,
   "metadata": {},
   "outputs": [],
   "source": [
    "# Creating the dataframe with date as index\n",
    "total_dates = pd.DataFrame(data_trivial['date'])"
   ]
  },
  {
   "cell_type": "code",
   "execution_count": 22,
   "metadata": {},
   "outputs": [],
   "source": [
    "dates_unique = total_dates['date'].unique()"
   ]
  },
  {
   "cell_type": "code",
   "execution_count": 23,
   "metadata": {},
   "outputs": [
    {
     "data": {
      "text/plain": [
       "907"
      ]
     },
     "execution_count": 23,
     "metadata": {},
     "output_type": "execute_result"
    }
   ],
   "source": [
    "len(dates_unique)"
   ]
  },
  {
   "cell_type": "code",
   "execution_count": 24,
   "metadata": {},
   "outputs": [],
   "source": [
    "df_dates = pd.DataFrame(dates_unique)"
   ]
  },
  {
   "cell_type": "code",
   "execution_count": 25,
   "metadata": {},
   "outputs": [],
   "source": [
    "df_dates.rename(columns={0:'date'}, inplace=True)   # Renames the columns and save to df_dates"
   ]
  },
  {
   "cell_type": "code",
   "execution_count": 26,
   "metadata": {},
   "outputs": [],
   "source": [
    "df_dates.sort_values(by='date', inplace=True)"
   ]
  },
  {
   "cell_type": "code",
   "execution_count": 27,
   "metadata": {},
   "outputs": [],
   "source": [
    "data_analysis = df_dates.set_index(['date'])"
   ]
  },
  {
   "cell_type": "code",
   "execution_count": 28,
   "metadata": {},
   "outputs": [],
   "source": [
    "country_list = ['India', 'Germany', 'Spain']"
   ]
  },
  {
   "cell_type": "code",
   "execution_count": 29,
   "metadata": {},
   "outputs": [],
   "source": [
    "country_list = data_trivial['country'].unique()"
   ]
  },
  {
   "cell_type": "code",
   "execution_count": 30,
   "metadata": {},
   "outputs": [],
   "source": [
    "data_processed = data_trivial.set_index(['date'])"
   ]
  },
  {
   "cell_type": "code",
   "execution_count": 31,
   "metadata": {},
   "outputs": [],
   "source": [
    "for each in country_list:\n",
    "    data_analysis[each+'_infected'] = pd.DataFrame(data_processed[data_processed['country'] == each]['infected'])\n",
    "    data_analysis[each+'_Relativecases'] = pd.DataFrame(data_processed[data_processed['country'] == each]['Relativecases'])\n",
    "    data_analysis[each+'_vaccinationRate'] = pd.DataFrame(data_processed[data_processed['country'] == each]['vaccination_rate'])"
   ]
  },
  {
   "cell_type": "code",
   "execution_count": 32,
   "metadata": {},
   "outputs": [
    {
     "data": {
      "text/html": [
       "<div>\n",
       "<style scoped>\n",
       "    .dataframe tbody tr th:only-of-type {\n",
       "        vertical-align: middle;\n",
       "    }\n",
       "\n",
       "    .dataframe tbody tr th {\n",
       "        vertical-align: top;\n",
       "    }\n",
       "\n",
       "    .dataframe thead th {\n",
       "        text-align: right;\n",
       "    }\n",
       "</style>\n",
       "<table border=\"1\" class=\"dataframe\">\n",
       "  <thead>\n",
       "    <tr style=\"text-align: right;\">\n",
       "      <th></th>\n",
       "      <th>Afghanistan_infected</th>\n",
       "      <th>Afghanistan_Relativecases</th>\n",
       "      <th>Afghanistan_vaccinationRate</th>\n",
       "      <th>Africa_infected</th>\n",
       "      <th>Africa_Relativecases</th>\n",
       "      <th>Africa_vaccinationRate</th>\n",
       "      <th>Albania_infected</th>\n",
       "      <th>Albania_Relativecases</th>\n",
       "      <th>Albania_vaccinationRate</th>\n",
       "      <th>Algeria_infected</th>\n",
       "      <th>...</th>\n",
       "      <th>World_vaccinationRate</th>\n",
       "      <th>Yemen_infected</th>\n",
       "      <th>Yemen_Relativecases</th>\n",
       "      <th>Yemen_vaccinationRate</th>\n",
       "      <th>Zambia_infected</th>\n",
       "      <th>Zambia_Relativecases</th>\n",
       "      <th>Zambia_vaccinationRate</th>\n",
       "      <th>Zimbabwe_infected</th>\n",
       "      <th>Zimbabwe_Relativecases</th>\n",
       "      <th>Zimbabwe_vaccinationRate</th>\n",
       "    </tr>\n",
       "    <tr>\n",
       "      <th>date</th>\n",
       "      <th></th>\n",
       "      <th></th>\n",
       "      <th></th>\n",
       "      <th></th>\n",
       "      <th></th>\n",
       "      <th></th>\n",
       "      <th></th>\n",
       "      <th></th>\n",
       "      <th></th>\n",
       "      <th></th>\n",
       "      <th></th>\n",
       "      <th></th>\n",
       "      <th></th>\n",
       "      <th></th>\n",
       "      <th></th>\n",
       "      <th></th>\n",
       "      <th></th>\n",
       "      <th></th>\n",
       "      <th></th>\n",
       "      <th></th>\n",
       "      <th></th>\n",
       "    </tr>\n",
       "  </thead>\n",
       "  <tbody>\n",
       "    <tr>\n",
       "      <th>2022-06-21</th>\n",
       "      <td>181808.0</td>\n",
       "      <td>0.004564</td>\n",
       "      <td>12.501259</td>\n",
       "      <td>11994315.0</td>\n",
       "      <td>0.008733</td>\n",
       "      <td>18.373953</td>\n",
       "      <td>277663.0</td>\n",
       "      <td>0.096648</td>\n",
       "      <td>NaN</td>\n",
       "      <td>265993.0</td>\n",
       "      <td>...</td>\n",
       "      <td>60.700352</td>\n",
       "      <td>11824.0</td>\n",
       "      <td>0.000388</td>\n",
       "      <td>NaN</td>\n",
       "      <td>324558.0</td>\n",
       "      <td>0.017154</td>\n",
       "      <td>NaN</td>\n",
       "      <td>254919.0</td>\n",
       "      <td>0.016891</td>\n",
       "      <td>30.369170</td>\n",
       "    </tr>\n",
       "    <tr>\n",
       "      <th>2022-06-22</th>\n",
       "      <td>181912.0</td>\n",
       "      <td>0.004567</td>\n",
       "      <td>NaN</td>\n",
       "      <td>12002174.0</td>\n",
       "      <td>0.008738</td>\n",
       "      <td>18.382256</td>\n",
       "      <td>277940.0</td>\n",
       "      <td>0.096744</td>\n",
       "      <td>NaN</td>\n",
       "      <td>266006.0</td>\n",
       "      <td>...</td>\n",
       "      <td>60.721775</td>\n",
       "      <td>11824.0</td>\n",
       "      <td>0.000388</td>\n",
       "      <td>NaN</td>\n",
       "      <td>324558.0</td>\n",
       "      <td>0.017154</td>\n",
       "      <td>22.518129</td>\n",
       "      <td>255049.0</td>\n",
       "      <td>0.016899</td>\n",
       "      <td>30.402120</td>\n",
       "    </tr>\n",
       "    <tr>\n",
       "      <th>2022-06-23</th>\n",
       "      <td>181987.0</td>\n",
       "      <td>0.004568</td>\n",
       "      <td>NaN</td>\n",
       "      <td>12011490.0</td>\n",
       "      <td>0.008745</td>\n",
       "      <td>18.390079</td>\n",
       "      <td>278211.0</td>\n",
       "      <td>0.096839</td>\n",
       "      <td>NaN</td>\n",
       "      <td>266015.0</td>\n",
       "      <td>...</td>\n",
       "      <td>60.750128</td>\n",
       "      <td>11824.0</td>\n",
       "      <td>0.000388</td>\n",
       "      <td>NaN</td>\n",
       "      <td>324922.0</td>\n",
       "      <td>0.017173</td>\n",
       "      <td>22.881986</td>\n",
       "      <td>255136.0</td>\n",
       "      <td>0.016905</td>\n",
       "      <td>30.568299</td>\n",
       "    </tr>\n",
       "    <tr>\n",
       "      <th>2022-06-24</th>\n",
       "      <td>182033.0</td>\n",
       "      <td>0.004570</td>\n",
       "      <td>NaN</td>\n",
       "      <td>12017973.0</td>\n",
       "      <td>0.008750</td>\n",
       "      <td>18.390883</td>\n",
       "      <td>278504.0</td>\n",
       "      <td>0.096941</td>\n",
       "      <td>NaN</td>\n",
       "      <td>266025.0</td>\n",
       "      <td>...</td>\n",
       "      <td>60.777040</td>\n",
       "      <td>11824.0</td>\n",
       "      <td>0.000388</td>\n",
       "      <td>NaN</td>\n",
       "      <td>325110.0</td>\n",
       "      <td>0.017183</td>\n",
       "      <td>NaN</td>\n",
       "      <td>255309.0</td>\n",
       "      <td>0.016917</td>\n",
       "      <td>NaN</td>\n",
       "    </tr>\n",
       "    <tr>\n",
       "      <th>2022-06-25</th>\n",
       "      <td>182072.0</td>\n",
       "      <td>0.004571</td>\n",
       "      <td>NaN</td>\n",
       "      <td>12023592.0</td>\n",
       "      <td>0.008754</td>\n",
       "      <td>18.391527</td>\n",
       "      <td>278793.0</td>\n",
       "      <td>0.097041</td>\n",
       "      <td>NaN</td>\n",
       "      <td>266030.0</td>\n",
       "      <td>...</td>\n",
       "      <td>60.792700</td>\n",
       "      <td>11824.0</td>\n",
       "      <td>0.000388</td>\n",
       "      <td>NaN</td>\n",
       "      <td>325110.0</td>\n",
       "      <td>0.017183</td>\n",
       "      <td>NaN</td>\n",
       "      <td>255309.0</td>\n",
       "      <td>0.016917</td>\n",
       "      <td>NaN</td>\n",
       "    </tr>\n",
       "  </tbody>\n",
       "</table>\n",
       "<p>5 rows × 732 columns</p>\n",
       "</div>"
      ],
      "text/plain": [
       "            Afghanistan_infected  Afghanistan_Relativecases  \\\n",
       "date                                                          \n",
       "2022-06-21              181808.0                   0.004564   \n",
       "2022-06-22              181912.0                   0.004567   \n",
       "2022-06-23              181987.0                   0.004568   \n",
       "2022-06-24              182033.0                   0.004570   \n",
       "2022-06-25              182072.0                   0.004571   \n",
       "\n",
       "            Afghanistan_vaccinationRate  Africa_infected  \\\n",
       "date                                                       \n",
       "2022-06-21                    12.501259       11994315.0   \n",
       "2022-06-22                          NaN       12002174.0   \n",
       "2022-06-23                          NaN       12011490.0   \n",
       "2022-06-24                          NaN       12017973.0   \n",
       "2022-06-25                          NaN       12023592.0   \n",
       "\n",
       "            Africa_Relativecases  Africa_vaccinationRate  Albania_infected  \\\n",
       "date                                                                         \n",
       "2022-06-21              0.008733               18.373953          277663.0   \n",
       "2022-06-22              0.008738               18.382256          277940.0   \n",
       "2022-06-23              0.008745               18.390079          278211.0   \n",
       "2022-06-24              0.008750               18.390883          278504.0   \n",
       "2022-06-25              0.008754               18.391527          278793.0   \n",
       "\n",
       "            Albania_Relativecases  Albania_vaccinationRate  Algeria_infected  \\\n",
       "date                                                                           \n",
       "2022-06-21               0.096648                      NaN          265993.0   \n",
       "2022-06-22               0.096744                      NaN          266006.0   \n",
       "2022-06-23               0.096839                      NaN          266015.0   \n",
       "2022-06-24               0.096941                      NaN          266025.0   \n",
       "2022-06-25               0.097041                      NaN          266030.0   \n",
       "\n",
       "            ...  World_vaccinationRate  Yemen_infected  Yemen_Relativecases  \\\n",
       "date        ...                                                               \n",
       "2022-06-21  ...              60.700352         11824.0             0.000388   \n",
       "2022-06-22  ...              60.721775         11824.0             0.000388   \n",
       "2022-06-23  ...              60.750128         11824.0             0.000388   \n",
       "2022-06-24  ...              60.777040         11824.0             0.000388   \n",
       "2022-06-25  ...              60.792700         11824.0             0.000388   \n",
       "\n",
       "            Yemen_vaccinationRate  Zambia_infected  Zambia_Relativecases  \\\n",
       "date                                                                       \n",
       "2022-06-21                    NaN         324558.0              0.017154   \n",
       "2022-06-22                    NaN         324558.0              0.017154   \n",
       "2022-06-23                    NaN         324922.0              0.017173   \n",
       "2022-06-24                    NaN         325110.0              0.017183   \n",
       "2022-06-25                    NaN         325110.0              0.017183   \n",
       "\n",
       "            Zambia_vaccinationRate  Zimbabwe_infected  Zimbabwe_Relativecases  \\\n",
       "date                                                                            \n",
       "2022-06-21                     NaN           254919.0                0.016891   \n",
       "2022-06-22               22.518129           255049.0                0.016899   \n",
       "2022-06-23               22.881986           255136.0                0.016905   \n",
       "2022-06-24                     NaN           255309.0                0.016917   \n",
       "2022-06-25                     NaN           255309.0                0.016917   \n",
       "\n",
       "            Zimbabwe_vaccinationRate  \n",
       "date                                  \n",
       "2022-06-21                 30.369170  \n",
       "2022-06-22                 30.402120  \n",
       "2022-06-23                 30.568299  \n",
       "2022-06-24                       NaN  \n",
       "2022-06-25                       NaN  \n",
       "\n",
       "[5 rows x 732 columns]"
      ]
     },
     "execution_count": 32,
     "metadata": {},
     "output_type": "execute_result"
    }
   ],
   "source": [
    "data_analysis.tail()"
   ]
  },
  {
   "cell_type": "markdown",
   "metadata": {},
   "source": [
    "### Ploting infected data"
   ]
  },
  {
   "cell_type": "code",
   "execution_count": 33,
   "metadata": {},
   "outputs": [
    {
     "data": {
      "image/png": "[encoded data removed]",
      "text/plain": [
       "<Figure size 1152x648 with 1 Axes>"
      ]
     },
     "metadata": {},
     "output_type": "display_data"
    }
   ],
   "source": [
    "fig, ax1 = plt.subplots(1,1)\n",
    "ax1.plot(data_analysis.index, data_analysis['India'+'_Relativecases'], label='India', color = 'b')\n",
    "ax1.plot(data_analysis.index, data_analysis['Germany'+'_Relativecases'], label='Germany', color = 'g')\n",
    "ax1.plot(data_analysis.index, data_analysis['Italy'+'_Relativecases'], label='Italy', color = 'r')\n",
    "\n",
    "ax1.set_yscale('linear')\n",
    "\n",
    "ax1.set_title('Infected over time', size = 16)\n",
    "ax1.set_xlabel('Date', size = 16)\n",
    "ax1.set_ylabel('Relativecases (absolute Covid cases / Population size)', size = 16)\n",
    "\n",
    "ax1.legend(loc='best', prop={'size':16})\n",
    "plt.grid()"
   ]
  },
  {
   "cell_type": "markdown",
   "metadata": {},
   "source": [
    "### Ploting % of vaccinated population overtime"
   ]
  },
  {
   "cell_type": "code",
   "execution_count": 34,
   "metadata": {},
   "outputs": [
    {
     "data": {
      "image/png": "[encoded data removed]",
      "text/plain": [
       "<Figure size 1152x648 with 1 Axes>"
      ]
     },
     "metadata": {},
     "output_type": "display_data"
    }
   ],
   "source": [
    "fig, ax1 = plt.subplots(1,1)\n",
    "ax1.plot(data_analysis.index, data_analysis['India'+'_vaccinationRate'],'o', label='India', color = 'b')\n",
    "ax1.plot(data_analysis.index, data_analysis['Germany'+'_vaccinationRate'],'o', label='Germany', color = 'g')\n",
    "ax1.plot(data_analysis.index, data_analysis['Italy'+'_vaccinationRate'],'o', label='Italy', color = 'r')\n",
    "\n",
    "ax1.set_yscale('linear')\n",
    "\n",
    "ax1.set_title('Vaccination over time', size = 16)\n",
    "ax1.set_xlabel('Date', size = 16)\n",
    "ax1.set_ylabel('% of vaccination', size = 16)\n",
    "\n",
    "ax1.legend(loc='best', prop={'size':16})\n",
    "plt.grid()"
   ]
  },
  {
   "cell_type": "markdown",
   "metadata": {},
   "source": [
    "# Output from this notebook for the Dashboard"
   ]
  },
  {
   "cell_type": "code",
   "execution_count": 35,
   "metadata": {},
   "outputs": [],
   "source": [
    "data_analysis.to_csv('../data/processed/processed_data.csv')"
   ]
  },
  {
   "cell_type": "code",
   "execution_count": null,
   "metadata": {},
   "outputs": [],
   "source": []
  },
  {
   "cell_type": "code",
   "execution_count": null,
   "metadata": {},
   "outputs": [],
   "source": []
  }
 ],
 "metadata": {
  "kernelspec": {
   "display_name": "Python 3",
   "language": "python",
   "name": "python3"
  },
  "language_info": {
   "codemirror_mode": {
    "name": "ipython",
    "version": 3
   },
   "file_extension": ".py",
   "mimetype": "text/x-python",
   "name": "python",
   "nbconvert_exporter": "python",
   "pygments_lexer": "ipython3",
   "version": "3.8.5"
  }
 },
 "nbformat": 4,
 "nbformat_minor": 4
}
